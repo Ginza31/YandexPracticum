{
 "cells": [
  {
   "cell_type": "markdown",
   "metadata": {},
   "source": [
    "# Описание проекта <a class=\"anchor\" id=\"1\"></a>"
   ]
  },
  {
   "cell_type": "markdown",
   "metadata": {},
   "source": [
    "**Наше задание:** провести анализ данных и сегментировать покупателей на основе истории их покупок.\n",
    "\n",
    "У нас в распоряжении есть сведения о транзакциях интернет-магазина для дома и быта \"Пока все ещё тут\" в csv-файле.\n",
    "Колонки в  *ecommerce_dataset.csv* :\n",
    "- `date` — дата заказа;\n",
    "- `customer_id` — идентификатор покупателя;\n",
    "- `order_id` — идентификатор заказа;\n",
    "- `product` — наименование товара;\n",
    "- `quantity` — количество товара в заказе;\n",
    "- `price` — цена товара."
   ]
  },
  {
   "cell_type": "markdown",
   "metadata": {},
   "source": [
    "Нам предстоит:\n",
    " * разбить данные на категории товаров и выявить самые популярные товары для клиентов;\n",
    "\n",
    " * определить частоту и сумму заказов для клиентов интернет-магазина;\n",
    "\n",
    " * сегментировать покупателей интернет-магазина;\n",
    "\n",
    " * сформулировать основные выводы и разработать рекомендации по повышению качества работы с клиентами:\n",
    "      * выделить целевые группы клиентов;\n",
    "      * предложить меры по удержанию клиентов;\n",
    "      * определить другие особенности взаимодействия с клиентами"
   ]
  },
  {
   "cell_type": "markdown",
   "metadata": {},
   "source": [
    "<a class=\"anchor\" id=\"2\"></a>\n",
    "## Разделы исследования данных\n",
    "\n",
    "* [Загружаем данные и подготавливаем их к анализу](#chapter1)\n",
    "\n",
    "* [Проводим исследовательский анализ данных](#chapter2)\n",
    "\n",
    "    * [Количество заказов и средний чек на пользователя](#section_2_1)\n",
    "    * [Когортный анализ и LTV](#section_2_2)\n",
    "\n",
    "* [Сегментация пользователей](#chapter3)\n",
    "    \n",
    "* [Проверка гипотез](#chapter4)\n",
    "\n",
    "* [Выводы и рекомендации](#chapter5)\n",
    "\n",
    "* [Дополнительные материалы](#chapter6)"
   ]
  },
  {
   "cell_type": "markdown",
   "metadata": {},
   "source": [
    "<a class=\"anchor\" id=\"chapter1\"></a> \n",
    "## Загружаем данные и подготавливаем их к анализу \n",
    "<a class=\"anchor\" href=\"#2\">Вернуться к оглавлению</a>"
   ]
  },
  {
   "cell_type": "code",
   "execution_count": 1,
   "metadata": {},
   "outputs": [],
   "source": [
    "#Импортируем необходимые библиотеки\n",
    "import pandas as pd\n",
    "import numpy as np\n",
    "import matplotlib.pyplot as plt\n",
    "import seaborn as sns\n",
    "from scipy import stats as st\n",
    "\n",
    "import warnings\n",
    "warnings.filterwarnings('ignore')"
   ]
  },
  {
   "cell_type": "code",
   "execution_count": 2,
   "metadata": {},
   "outputs": [],
   "source": [
    "pd.set_option('max_colwidth', 800)"
   ]
  },
  {
   "cell_type": "code",
   "execution_count": 3,
   "metadata": {},
   "outputs": [],
   "source": [
    "# Подгружаем датасет и сохраняем в переменную df\n",
    "try:\n",
    "    df = pd.read_csv('/datasets/ecommerce_dataset.csv')\n",
    "except:\n",
    "    df = pd.read_csv('ecommerce_dataset.csv')"
   ]
  },
  {
   "cell_type": "code",
   "execution_count": 4,
   "metadata": {},
   "outputs": [
    {
     "data": {
      "text/html": [
       "<div>\n",
       "<style scoped>\n",
       "    .dataframe tbody tr th:only-of-type {\n",
       "        vertical-align: middle;\n",
       "    }\n",
       "\n",
       "    .dataframe tbody tr th {\n",
       "        vertical-align: top;\n",
       "    }\n",
       "\n",
       "    .dataframe thead th {\n",
       "        text-align: right;\n",
       "    }\n",
       "</style>\n",
       "<table border=\"1\" class=\"dataframe\">\n",
       "  <thead>\n",
       "    <tr style=\"text-align: right;\">\n",
       "      <th></th>\n",
       "      <th>date</th>\n",
       "      <th>customer_id</th>\n",
       "      <th>order_id</th>\n",
       "      <th>product</th>\n",
       "      <th>quantity</th>\n",
       "      <th>price</th>\n",
       "    </tr>\n",
       "  </thead>\n",
       "  <tbody>\n",
       "    <tr>\n",
       "      <td>0</td>\n",
       "      <td>2018100100</td>\n",
       "      <td>ee47d746-6d2f-4d3c-9622-c31412542920</td>\n",
       "      <td>68477</td>\n",
       "      <td>Комнатное растение в горшке Алое Вера, d12, h30</td>\n",
       "      <td>1</td>\n",
       "      <td>142.0</td>\n",
       "    </tr>\n",
       "    <tr>\n",
       "      <td>1</td>\n",
       "      <td>2018100100</td>\n",
       "      <td>ee47d746-6d2f-4d3c-9622-c31412542920</td>\n",
       "      <td>68477</td>\n",
       "      <td>Комнатное растение в горшке Кофе Арабика, d12, h25</td>\n",
       "      <td>1</td>\n",
       "      <td>194.0</td>\n",
       "    </tr>\n",
       "    <tr>\n",
       "      <td>2</td>\n",
       "      <td>2018100100</td>\n",
       "      <td>ee47d746-6d2f-4d3c-9622-c31412542920</td>\n",
       "      <td>68477</td>\n",
       "      <td>Радермахера d-12 см h-20 см</td>\n",
       "      <td>1</td>\n",
       "      <td>112.0</td>\n",
       "    </tr>\n",
       "    <tr>\n",
       "      <td>3</td>\n",
       "      <td>2018100100</td>\n",
       "      <td>ee47d746-6d2f-4d3c-9622-c31412542920</td>\n",
       "      <td>68477</td>\n",
       "      <td>Хризолидокарпус Лутесценс d-9 см</td>\n",
       "      <td>1</td>\n",
       "      <td>179.0</td>\n",
       "    </tr>\n",
       "    <tr>\n",
       "      <td>4</td>\n",
       "      <td>2018100100</td>\n",
       "      <td>ee47d746-6d2f-4d3c-9622-c31412542920</td>\n",
       "      <td>68477</td>\n",
       "      <td>Циперус Зумула d-12 см h-25 см</td>\n",
       "      <td>1</td>\n",
       "      <td>112.0</td>\n",
       "    </tr>\n",
       "  </tbody>\n",
       "</table>\n",
       "</div>"
      ],
      "text/plain": [
       "         date                           customer_id  order_id  \\\n",
       "0  2018100100  ee47d746-6d2f-4d3c-9622-c31412542920     68477   \n",
       "1  2018100100  ee47d746-6d2f-4d3c-9622-c31412542920     68477   \n",
       "2  2018100100  ee47d746-6d2f-4d3c-9622-c31412542920     68477   \n",
       "3  2018100100  ee47d746-6d2f-4d3c-9622-c31412542920     68477   \n",
       "4  2018100100  ee47d746-6d2f-4d3c-9622-c31412542920     68477   \n",
       "\n",
       "                                              product  quantity  price  \n",
       "0     Комнатное растение в горшке Алое Вера, d12, h30         1  142.0  \n",
       "1  Комнатное растение в горшке Кофе Арабика, d12, h25         1  194.0  \n",
       "2                         Радермахера d-12 см h-20 см         1  112.0  \n",
       "3                    Хризолидокарпус Лутесценс d-9 см         1  179.0  \n",
       "4                      Циперус Зумула d-12 см h-25 см         1  112.0  "
      ]
     },
     "execution_count": 4,
     "metadata": {},
     "output_type": "execute_result"
    }
   ],
   "source": [
    "# Выведем на экран первые 5 строк таблицы\n",
    "df.head()"
   ]
  },
  {
   "cell_type": "code",
   "execution_count": 5,
   "metadata": {},
   "outputs": [
    {
     "name": "stdout",
     "output_type": "stream",
     "text": [
      "<class 'pandas.core.frame.DataFrame'>\n",
      "RangeIndex: 6737 entries, 0 to 6736\n",
      "Data columns (total 6 columns):\n",
      "date           6737 non-null int64\n",
      "customer_id    6737 non-null object\n",
      "order_id       6737 non-null int64\n",
      "product        6737 non-null object\n",
      "quantity       6737 non-null int64\n",
      "price          6737 non-null float64\n",
      "dtypes: float64(1), int64(3), object(2)\n",
      "memory usage: 315.9+ KB\n"
     ]
    }
   ],
   "source": [
    "#Изучим информацию о самой таблице с данными\n",
    "df.info()"
   ]
  },
  {
   "cell_type": "code",
   "execution_count": 6,
   "metadata": {},
   "outputs": [],
   "source": [
    "#Изменим колонку с датой на удобный формат\n",
    "df['date'] = pd.to_datetime(df['date'], format ='%Y%m%d%H')"
   ]
  },
  {
   "cell_type": "code",
   "execution_count": 7,
   "metadata": {},
   "outputs": [],
   "source": [
    "#Понижаем разрядность целочисленных значений\n",
    "df['order_id'] = pd.to_numeric(df['order_id'], downcast='signed')\n",
    "df['quantity'] = pd.to_numeric(df['quantity'], downcast='signed')"
   ]
  },
  {
   "cell_type": "code",
   "execution_count": 8,
   "metadata": {},
   "outputs": [
    {
     "name": "stdout",
     "output_type": "stream",
     "text": [
      "<class 'pandas.core.frame.DataFrame'>\n",
      "RangeIndex: 6737 entries, 0 to 6736\n",
      "Data columns (total 6 columns):\n",
      "date           6737 non-null datetime64[ns]\n",
      "customer_id    6737 non-null object\n",
      "order_id       6737 non-null int32\n",
      "product        6737 non-null object\n",
      "quantity       6737 non-null int16\n",
      "price          6737 non-null float64\n",
      "dtypes: datetime64[ns](1), float64(1), int16(1), int32(1), object(2)\n",
      "memory usage: 250.1+ KB\n"
     ]
    }
   ],
   "source": [
    "#Изучим информацию о самой таблице с данными\n",
    "df.info()"
   ]
  },
  {
   "cell_type": "code",
   "execution_count": 9,
   "metadata": {},
   "outputs": [
    {
     "data": {
      "text/html": [
       "<div>\n",
       "<style scoped>\n",
       "    .dataframe tbody tr th:only-of-type {\n",
       "        vertical-align: middle;\n",
       "    }\n",
       "\n",
       "    .dataframe tbody tr th {\n",
       "        vertical-align: top;\n",
       "    }\n",
       "\n",
       "    .dataframe thead th {\n",
       "        text-align: right;\n",
       "    }\n",
       "</style>\n",
       "<table border=\"1\" class=\"dataframe\">\n",
       "  <thead>\n",
       "    <tr style=\"text-align: right;\">\n",
       "      <th></th>\n",
       "      <th>date</th>\n",
       "      <th>customer_id</th>\n",
       "      <th>order_id</th>\n",
       "      <th>product</th>\n",
       "      <th>quantity</th>\n",
       "      <th>price</th>\n",
       "    </tr>\n",
       "  </thead>\n",
       "  <tbody>\n",
       "    <tr>\n",
       "      <td>0</td>\n",
       "      <td>2018-10-01</td>\n",
       "      <td>ee47d746-6d2f-4d3c-9622-c31412542920</td>\n",
       "      <td>68477</td>\n",
       "      <td>Комнатное растение в горшке Алое Вера, d12, h30</td>\n",
       "      <td>1</td>\n",
       "      <td>142.0</td>\n",
       "    </tr>\n",
       "    <tr>\n",
       "      <td>1</td>\n",
       "      <td>2018-10-01</td>\n",
       "      <td>ee47d746-6d2f-4d3c-9622-c31412542920</td>\n",
       "      <td>68477</td>\n",
       "      <td>Комнатное растение в горшке Кофе Арабика, d12, h25</td>\n",
       "      <td>1</td>\n",
       "      <td>194.0</td>\n",
       "    </tr>\n",
       "    <tr>\n",
       "      <td>2</td>\n",
       "      <td>2018-10-01</td>\n",
       "      <td>ee47d746-6d2f-4d3c-9622-c31412542920</td>\n",
       "      <td>68477</td>\n",
       "      <td>Радермахера d-12 см h-20 см</td>\n",
       "      <td>1</td>\n",
       "      <td>112.0</td>\n",
       "    </tr>\n",
       "    <tr>\n",
       "      <td>3</td>\n",
       "      <td>2018-10-01</td>\n",
       "      <td>ee47d746-6d2f-4d3c-9622-c31412542920</td>\n",
       "      <td>68477</td>\n",
       "      <td>Хризолидокарпус Лутесценс d-9 см</td>\n",
       "      <td>1</td>\n",
       "      <td>179.0</td>\n",
       "    </tr>\n",
       "    <tr>\n",
       "      <td>4</td>\n",
       "      <td>2018-10-01</td>\n",
       "      <td>ee47d746-6d2f-4d3c-9622-c31412542920</td>\n",
       "      <td>68477</td>\n",
       "      <td>Циперус Зумула d-12 см h-25 см</td>\n",
       "      <td>1</td>\n",
       "      <td>112.0</td>\n",
       "    </tr>\n",
       "  </tbody>\n",
       "</table>\n",
       "</div>"
      ],
      "text/plain": [
       "        date                           customer_id  order_id  \\\n",
       "0 2018-10-01  ee47d746-6d2f-4d3c-9622-c31412542920     68477   \n",
       "1 2018-10-01  ee47d746-6d2f-4d3c-9622-c31412542920     68477   \n",
       "2 2018-10-01  ee47d746-6d2f-4d3c-9622-c31412542920     68477   \n",
       "3 2018-10-01  ee47d746-6d2f-4d3c-9622-c31412542920     68477   \n",
       "4 2018-10-01  ee47d746-6d2f-4d3c-9622-c31412542920     68477   \n",
       "\n",
       "                                              product  quantity  price  \n",
       "0     Комнатное растение в горшке Алое Вера, d12, h30         1  142.0  \n",
       "1  Комнатное растение в горшке Кофе Арабика, d12, h25         1  194.0  \n",
       "2                         Радермахера d-12 см h-20 см         1  112.0  \n",
       "3                    Хризолидокарпус Лутесценс d-9 см         1  179.0  \n",
       "4                      Циперус Зумула d-12 см h-25 см         1  112.0  "
      ]
     },
     "execution_count": 9,
     "metadata": {},
     "output_type": "execute_result"
    }
   ],
   "source": [
    "# Выведем на экран первые 5 строк таблицы\n",
    "df.head()"
   ]
  },
  {
   "cell_type": "code",
   "execution_count": 10,
   "metadata": {},
   "outputs": [],
   "source": [
    "#Приведем данные к нижнему регистру в колонке с товарами\n",
    "df['product'] = df['product'].str.lower()"
   ]
  },
  {
   "cell_type": "code",
   "execution_count": 11,
   "metadata": {},
   "outputs": [
    {
     "data": {
      "text/plain": [
       "date           0.0\n",
       "customer_id    0.0\n",
       "order_id       0.0\n",
       "product        0.0\n",
       "quantity       0.0\n",
       "price          0.0\n",
       "dtype: float64"
      ]
     },
     "execution_count": 11,
     "metadata": {},
     "output_type": "execute_result"
    }
   ],
   "source": [
    "#Просмотрим количество пропусков в процентном выражении таблицы\n",
    "df.isna().mean()"
   ]
  },
  {
   "cell_type": "code",
   "execution_count": 12,
   "metadata": {},
   "outputs": [
    {
     "data": {
      "text/plain": [
       "False    6737\n",
       "dtype: int64"
      ]
     },
     "execution_count": 12,
     "metadata": {},
     "output_type": "execute_result"
    }
   ],
   "source": [
    "#Определим количество дубликатов в таблице\n",
    "df.duplicated().value_counts()"
   ]
  },
  {
   "cell_type": "code",
   "execution_count": 13,
   "metadata": {},
   "outputs": [
    {
     "data": {
      "text/plain": [
       "Timestamp('2018-10-01 00:00:00')"
      ]
     },
     "metadata": {},
     "output_type": "display_data"
    },
    {
     "data": {
      "text/plain": [
       "Timestamp('2019-10-31 16:00:00')"
      ]
     },
     "metadata": {},
     "output_type": "display_data"
    }
   ],
   "source": [
    "#Выведем на экран первое и последнее время в датасете\n",
    "display(\n",
    "df['date'].min(),\n",
    "df['date'].max())"
   ]
  },
  {
   "cell_type": "code",
   "execution_count": 14,
   "metadata": {},
   "outputs": [
    {
     "data": {
      "text/plain": [
       "False    6737\n",
       "Name: price, dtype: int64"
      ]
     },
     "execution_count": 14,
     "metadata": {},
     "output_type": "execute_result"
    }
   ],
   "source": [
    "#Выведем на экран число неположительных или нулевых значений колонки\n",
    "(df['price'] <= 0).value_counts()"
   ]
  },
  {
   "cell_type": "code",
   "execution_count": 15,
   "metadata": {},
   "outputs": [
    {
     "data": {
      "text/plain": [
       "False    6737\n",
       "Name: quantity, dtype: int64"
      ]
     },
     "execution_count": 15,
     "metadata": {},
     "output_type": "execute_result"
    }
   ],
   "source": [
    "#Выведем на экран число неположительных или нулевых значений колонки\n",
    "(df['quantity'] <= 0).value_counts()"
   ]
  },
  {
   "cell_type": "markdown",
   "metadata": {},
   "source": [
    "Мы загрузили и просмотрели общую информацию о датасете. Изменили тип данных для колонки с датой и понизили разрядность некоторых колонок для экономии места на диске. Привели названия товаров к нижнему регистру для удобства дальнейшего анализа.\n",
    "\n",
    "Данные за период с *01 октября 2018 по 31 октября 2019* - 13 месяцев.\n",
    "\n",
    "Пропущенных значений и явных дубликатов на данном этапе не выявлено. Значения столбцов с количеством товара и его ценой не содержат отрицательных и нулевых значений. Можем предположить, что в нашем интернет-магазине не было возвратов или же такой тип операции не представлен в нашем датасете."
   ]
  },
  {
   "cell_type": "markdown",
   "metadata": {},
   "source": [
    "<a class=\"anchor\" id=\"chapter2\"></a> \n",
    "## Проводим исследовательский анализ данных\n",
    "<a class=\"anchor\" href=\"#2\">Вернуться к оглавлению</a>"
   ]
  },
  {
   "cell_type": "markdown",
   "metadata": {},
   "source": [
    "Что бы лучше понять поведение наших покупателей с последующей сегментацией, посмотрим на разброс цен в интернет-магазине, как часто совершаются покупки, что покупают и какими партиями. Посмотрим на распределение транзакций в наших данных."
   ]
  },
  {
   "cell_type": "code",
   "execution_count": 16,
   "metadata": {},
   "outputs": [
    {
     "data": {
      "image/png": "[encoded data removed]",
      "text/plain": [
       "<Figure size 864x432 with 1 Axes>"
      ]
     },
     "metadata": {
      "needs_background": "light"
     },
     "output_type": "display_data"
    }
   ],
   "source": [
    "#Задаем размер графика\n",
    "plt.figure(figsize=(12,6))\n",
    "\n",
    "#Данные для графика\n",
    "df['date'].hist()\n",
    "\n",
    "#Выводим на экран название графика\n",
    "plt.title('Распределение количества транзакций по месяцам', fontsize=14)\n",
    "plt.show();"
   ]
  },
  {
   "cell_type": "markdown",
   "metadata": {},
   "source": [
    "Судя по графику, можно сделать предположение о сезонности покупок. Так, с мая по июнь 2019 наблюдается высокое число транзакций, меньше всего транзакций было с конца августа по октябрь 2019, а также с конца декабря 2018 до первой декады февраля 2019."
   ]
  },
  {
   "cell_type": "code",
   "execution_count": 17,
   "metadata": {},
   "outputs": [
    {
     "data": {
      "image/png": "[encoded data removed]",
      "text/plain": [
       "<Figure size 864x432 with 1 Axes>"
      ]
     },
     "metadata": {
      "needs_background": "light"
     },
     "output_type": "display_data"
    }
   ],
   "source": [
    "#Задаем размер графика\n",
    "plt.figure(figsize=(12,6))\n",
    "\n",
    "#Данные для графика\n",
    "df['price'].hist()\n",
    "\n",
    "#Выводим на экран название графика\n",
    "plt.title('Распределение цен товаров', fontsize=14)\n",
    "plt.show();"
   ]
  },
  {
   "cell_type": "code",
   "execution_count": 18,
   "metadata": {},
   "outputs": [
    {
     "data": {
      "text/plain": [
       "array([ 599. , 1949. , 4225.4])"
      ]
     },
     "execution_count": 18,
     "metadata": {},
     "output_type": "execute_result"
    }
   ],
   "source": [
    "#Считаем перцентили\n",
    "np.percentile(df['price'], [80, 95, 99])"
   ]
  },
  {
   "cell_type": "code",
   "execution_count": 19,
   "metadata": {},
   "outputs": [
    {
     "data": {
      "image/png": "[encoded data removed]",
      "text/plain": [
       "<Figure size 864x432 with 1 Axes>"
      ]
     },
     "metadata": {
      "needs_background": "light"
     },
     "output_type": "display_data"
    }
   ],
   "source": [
    "#Задаем размер графика\n",
    "plt.figure(figsize=(12,6))\n",
    "\n",
    "#Данные для графика\n",
    "df['price'].hist(bins = 30, range = (0, 600))\n",
    "\n",
    "#Выводим на экран название графика\n",
    "plt.title('Популярность товаров с ценой менее 600', fontsize=14)\n",
    "plt.show();"
   ]
  },
  {
   "cell_type": "code",
   "execution_count": 20,
   "metadata": {},
   "outputs": [
    {
     "data": {
      "text/html": [
       "<div>\n",
       "<style scoped>\n",
       "    .dataframe tbody tr th:only-of-type {\n",
       "        vertical-align: middle;\n",
       "    }\n",
       "\n",
       "    .dataframe tbody tr th {\n",
       "        vertical-align: top;\n",
       "    }\n",
       "\n",
       "    .dataframe thead th {\n",
       "        text-align: right;\n",
       "    }\n",
       "</style>\n",
       "<table border=\"1\" class=\"dataframe\">\n",
       "  <thead>\n",
       "    <tr style=\"text-align: right;\">\n",
       "      <th></th>\n",
       "      <th>count</th>\n",
       "      <th>mean</th>\n",
       "      <th>std</th>\n",
       "      <th>min</th>\n",
       "      <th>25%</th>\n",
       "      <th>50%</th>\n",
       "      <th>75%</th>\n",
       "      <th>max</th>\n",
       "    </tr>\n",
       "  </thead>\n",
       "  <tbody>\n",
       "    <tr>\n",
       "      <td>price</td>\n",
       "      <td>6737.0</td>\n",
       "      <td>462.028499</td>\n",
       "      <td>871.296064</td>\n",
       "      <td>9.0</td>\n",
       "      <td>101.0</td>\n",
       "      <td>135.0</td>\n",
       "      <td>398.0</td>\n",
       "      <td>14917.0</td>\n",
       "    </tr>\n",
       "  </tbody>\n",
       "</table>\n",
       "</div>"
      ],
      "text/plain": [
       "        count        mean         std  min    25%    50%    75%      max\n",
       "price  6737.0  462.028499  871.296064  9.0  101.0  135.0  398.0  14917.0"
      ]
     },
     "execution_count": 20,
     "metadata": {},
     "output_type": "execute_result"
    }
   ],
   "source": [
    "#Просмотрим распределение цен в нашей выборке\n",
    "df[['price']].describe().T"
   ]
  },
  {
   "cell_type": "markdown",
   "metadata": {},
   "source": [
    "Как мы видим, в нашем интернет-магазине за последние 13 месяцев часто выбирали товары (80%) с ценой меньше 600. Популярны недорогие товары с ценой от 100 до 200.\n",
    "\n",
    "Минимальная цена товара  - 9, максимальная - 14 917. Половина наших товаров не дороже 135 и лишь 1% товаров в нашей выборке дороже 4 226."
   ]
  },
  {
   "cell_type": "code",
   "execution_count": 21,
   "metadata": {},
   "outputs": [],
   "source": [
    "#Добавим столбец с выручкой\n",
    "df['revenue'] = df.price * df.quantity"
   ]
  },
  {
   "cell_type": "code",
   "execution_count": 22,
   "metadata": {},
   "outputs": [
    {
     "data": {
      "text/html": [
       "<div>\n",
       "<style scoped>\n",
       "    .dataframe tbody tr th:only-of-type {\n",
       "        vertical-align: middle;\n",
       "    }\n",
       "\n",
       "    .dataframe tbody tr th {\n",
       "        vertical-align: top;\n",
       "    }\n",
       "\n",
       "    .dataframe thead th {\n",
       "        text-align: right;\n",
       "    }\n",
       "</style>\n",
       "<table border=\"1\" class=\"dataframe\">\n",
       "  <thead>\n",
       "    <tr style=\"text-align: right;\">\n",
       "      <th></th>\n",
       "      <th>count</th>\n",
       "      <th>mean</th>\n",
       "      <th>std</th>\n",
       "      <th>min</th>\n",
       "      <th>25%</th>\n",
       "      <th>50%</th>\n",
       "      <th>75%</th>\n",
       "      <th>max</th>\n",
       "    </tr>\n",
       "  </thead>\n",
       "  <tbody>\n",
       "    <tr>\n",
       "      <td>revenue</td>\n",
       "      <td>6737.0</td>\n",
       "      <td>720.094998</td>\n",
       "      <td>8352.100591</td>\n",
       "      <td>9.0</td>\n",
       "      <td>120.0</td>\n",
       "      <td>162.0</td>\n",
       "      <td>600.0</td>\n",
       "      <td>675000.0</td>\n",
       "    </tr>\n",
       "  </tbody>\n",
       "</table>\n",
       "</div>"
      ],
      "text/plain": [
       "          count        mean          std  min    25%    50%    75%       max\n",
       "revenue  6737.0  720.094998  8352.100591  9.0  120.0  162.0  600.0  675000.0"
      ]
     },
     "execution_count": 22,
     "metadata": {},
     "output_type": "execute_result"
    }
   ],
   "source": [
    "#Просмотрим распределение выручки за каждый товар\n",
    "df[['revenue']].describe().T"
   ]
  },
  {
   "cell_type": "code",
   "execution_count": 23,
   "metadata": {},
   "outputs": [
    {
     "data": {
      "text/html": [
       "<div>\n",
       "<style scoped>\n",
       "    .dataframe tbody tr th:only-of-type {\n",
       "        vertical-align: middle;\n",
       "    }\n",
       "\n",
       "    .dataframe tbody tr th {\n",
       "        vertical-align: top;\n",
       "    }\n",
       "\n",
       "    .dataframe thead th {\n",
       "        text-align: right;\n",
       "    }\n",
       "</style>\n",
       "<table border=\"1\" class=\"dataframe\">\n",
       "  <thead>\n",
       "    <tr style=\"text-align: right;\">\n",
       "      <th></th>\n",
       "      <th>date</th>\n",
       "      <th>customer_id</th>\n",
       "      <th>order_id</th>\n",
       "      <th>product</th>\n",
       "      <th>quantity</th>\n",
       "      <th>price</th>\n",
       "      <th>revenue</th>\n",
       "    </tr>\n",
       "  </thead>\n",
       "  <tbody>\n",
       "    <tr>\n",
       "      <td>0</td>\n",
       "      <td>2018-10-01</td>\n",
       "      <td>ee47d746-6d2f-4d3c-9622-c31412542920</td>\n",
       "      <td>68477</td>\n",
       "      <td>комнатное растение в горшке алое вера, d12, h30</td>\n",
       "      <td>1</td>\n",
       "      <td>142.0</td>\n",
       "      <td>142.0</td>\n",
       "    </tr>\n",
       "    <tr>\n",
       "      <td>1</td>\n",
       "      <td>2018-10-01</td>\n",
       "      <td>ee47d746-6d2f-4d3c-9622-c31412542920</td>\n",
       "      <td>68477</td>\n",
       "      <td>комнатное растение в горшке кофе арабика, d12, h25</td>\n",
       "      <td>1</td>\n",
       "      <td>194.0</td>\n",
       "      <td>194.0</td>\n",
       "    </tr>\n",
       "    <tr>\n",
       "      <td>2</td>\n",
       "      <td>2018-10-01</td>\n",
       "      <td>ee47d746-6d2f-4d3c-9622-c31412542920</td>\n",
       "      <td>68477</td>\n",
       "      <td>радермахера d-12 см h-20 см</td>\n",
       "      <td>1</td>\n",
       "      <td>112.0</td>\n",
       "      <td>112.0</td>\n",
       "    </tr>\n",
       "    <tr>\n",
       "      <td>3</td>\n",
       "      <td>2018-10-01</td>\n",
       "      <td>ee47d746-6d2f-4d3c-9622-c31412542920</td>\n",
       "      <td>68477</td>\n",
       "      <td>хризолидокарпус лутесценс d-9 см</td>\n",
       "      <td>1</td>\n",
       "      <td>179.0</td>\n",
       "      <td>179.0</td>\n",
       "    </tr>\n",
       "    <tr>\n",
       "      <td>4</td>\n",
       "      <td>2018-10-01</td>\n",
       "      <td>ee47d746-6d2f-4d3c-9622-c31412542920</td>\n",
       "      <td>68477</td>\n",
       "      <td>циперус зумула d-12 см h-25 см</td>\n",
       "      <td>1</td>\n",
       "      <td>112.0</td>\n",
       "      <td>112.0</td>\n",
       "    </tr>\n",
       "  </tbody>\n",
       "</table>\n",
       "</div>"
      ],
      "text/plain": [
       "        date                           customer_id  order_id  \\\n",
       "0 2018-10-01  ee47d746-6d2f-4d3c-9622-c31412542920     68477   \n",
       "1 2018-10-01  ee47d746-6d2f-4d3c-9622-c31412542920     68477   \n",
       "2 2018-10-01  ee47d746-6d2f-4d3c-9622-c31412542920     68477   \n",
       "3 2018-10-01  ee47d746-6d2f-4d3c-9622-c31412542920     68477   \n",
       "4 2018-10-01  ee47d746-6d2f-4d3c-9622-c31412542920     68477   \n",
       "\n",
       "                                              product  quantity  price  \\\n",
       "0     комнатное растение в горшке алое вера, d12, h30         1  142.0   \n",
       "1  комнатное растение в горшке кофе арабика, d12, h25         1  194.0   \n",
       "2                         радермахера d-12 см h-20 см         1  112.0   \n",
       "3                    хризолидокарпус лутесценс d-9 см         1  179.0   \n",
       "4                      циперус зумула d-12 см h-25 см         1  112.0   \n",
       "\n",
       "   revenue  \n",
       "0    142.0  \n",
       "1    194.0  \n",
       "2    112.0  \n",
       "3    179.0  \n",
       "4    112.0  "
      ]
     },
     "execution_count": 23,
     "metadata": {},
     "output_type": "execute_result"
    }
   ],
   "source": [
    "df.head()"
   ]
  },
  {
   "cell_type": "code",
   "execution_count": 24,
   "metadata": {},
   "outputs": [],
   "source": [
    "#Сгруппируем данные по пользователю, заказу и дате\n",
    "#df = df.groupby(['customer_id', 'order_id', 'date']).agg({'quantity':'sum', 'revenue':'sum'}).reset_index()"
   ]
  },
  {
   "cell_type": "code",
   "execution_count": 25,
   "metadata": {},
   "outputs": [
    {
     "data": {
      "text/html": [
       "<div>\n",
       "<style scoped>\n",
       "    .dataframe tbody tr th:only-of-type {\n",
       "        vertical-align: middle;\n",
       "    }\n",
       "\n",
       "    .dataframe tbody tr th {\n",
       "        vertical-align: top;\n",
       "    }\n",
       "\n",
       "    .dataframe thead th {\n",
       "        text-align: right;\n",
       "    }\n",
       "</style>\n",
       "<table border=\"1\" class=\"dataframe\">\n",
       "  <thead>\n",
       "    <tr style=\"text-align: right;\">\n",
       "      <th></th>\n",
       "      <th>customer_id</th>\n",
       "      <th>quantity</th>\n",
       "      <th>order_id</th>\n",
       "      <th>revenue</th>\n",
       "    </tr>\n",
       "  </thead>\n",
       "  <tbody>\n",
       "    <tr>\n",
       "      <td>469</td>\n",
       "      <td>312e9a3e-5fca-43ff-a6a1-892d2b2d5ba6</td>\n",
       "      <td>1000</td>\n",
       "      <td>1</td>\n",
       "      <td>675000.0</td>\n",
       "    </tr>\n",
       "    <tr>\n",
       "      <td>1916</td>\n",
       "      <td>c971fb21-d54c-4134-938f-16b62ee86d3b</td>\n",
       "      <td>344</td>\n",
       "      <td>126</td>\n",
       "      <td>166988.0</td>\n",
       "    </tr>\n",
       "    <tr>\n",
       "      <td>287</td>\n",
       "      <td>1d6c8c1f-a799-4418-9af2-1ded47d7a85c</td>\n",
       "      <td>900</td>\n",
       "      <td>1</td>\n",
       "      <td>114750.0</td>\n",
       "    </tr>\n",
       "    <tr>\n",
       "      <td>833</td>\n",
       "      <td>57cc80a2-2610-4eef-9457-e7c3bf0c72f0</td>\n",
       "      <td>60</td>\n",
       "      <td>1</td>\n",
       "      <td>65220.0</td>\n",
       "    </tr>\n",
       "    <tr>\n",
       "      <td>742</td>\n",
       "      <td>4d93d3f6-8b24-403b-a74b-f5173e40d7db</td>\n",
       "      <td>409</td>\n",
       "      <td>35</td>\n",
       "      <td>60828.0</td>\n",
       "    </tr>\n",
       "    <tr>\n",
       "      <td>839</td>\n",
       "      <td>58a4c3cc-504f-43ea-a74a-bae19e665552</td>\n",
       "      <td>30</td>\n",
       "      <td>2</td>\n",
       "      <td>53232.0</td>\n",
       "    </tr>\n",
       "    <tr>\n",
       "      <td>1506</td>\n",
       "      <td>9f1e7d7d-ff10-4eb1-b596-1cbf8075aa3f</td>\n",
       "      <td>96</td>\n",
       "      <td>1</td>\n",
       "      <td>50770.0</td>\n",
       "    </tr>\n",
       "    <tr>\n",
       "      <td>199</td>\n",
       "      <td>146cd9bf-a95c-4afb-915b-5f6684b17444</td>\n",
       "      <td>334</td>\n",
       "      <td>1</td>\n",
       "      <td>49432.0</td>\n",
       "    </tr>\n",
       "    <tr>\n",
       "      <td>699</td>\n",
       "      <td>498f12a4-6a62-4725-8516-cf5dc9ab8a3a</td>\n",
       "      <td>85</td>\n",
       "      <td>4</td>\n",
       "      <td>41900.0</td>\n",
       "    </tr>\n",
       "    <tr>\n",
       "      <td>1360</td>\n",
       "      <td>8fba3604-ef57-4b9f-b2fe-3402fa8825c8</td>\n",
       "      <td>101</td>\n",
       "      <td>1</td>\n",
       "      <td>33680.0</td>\n",
       "    </tr>\n",
       "  </tbody>\n",
       "</table>\n",
       "</div>"
      ],
      "text/plain": [
       "                               customer_id  quantity  order_id   revenue\n",
       "469   312e9a3e-5fca-43ff-a6a1-892d2b2d5ba6      1000         1  675000.0\n",
       "1916  c971fb21-d54c-4134-938f-16b62ee86d3b       344       126  166988.0\n",
       "287   1d6c8c1f-a799-4418-9af2-1ded47d7a85c       900         1  114750.0\n",
       "833   57cc80a2-2610-4eef-9457-e7c3bf0c72f0        60         1   65220.0\n",
       "742   4d93d3f6-8b24-403b-a74b-f5173e40d7db       409        35   60828.0\n",
       "839   58a4c3cc-504f-43ea-a74a-bae19e665552        30         2   53232.0\n",
       "1506  9f1e7d7d-ff10-4eb1-b596-1cbf8075aa3f        96         1   50770.0\n",
       "199   146cd9bf-a95c-4afb-915b-5f6684b17444       334         1   49432.0\n",
       "699   498f12a4-6a62-4725-8516-cf5dc9ab8a3a        85         4   41900.0\n",
       "1360  8fba3604-ef57-4b9f-b2fe-3402fa8825c8       101         1   33680.0"
      ]
     },
     "execution_count": 25,
     "metadata": {},
     "output_type": "execute_result"
    }
   ],
   "source": [
    "#Сгруппируем данные по пользователю\n",
    "df.groupby(by = 'customer_id').agg({'quantity':'sum','order_id':'nunique','revenue':'sum'})\\\n",
    "    .reset_index()\\\n",
    "    .sort_values('revenue', ascending=False)\\\n",
    "    .head(10)"
   ]
  },
  {
   "cell_type": "code",
   "execution_count": 26,
   "metadata": {},
   "outputs": [
    {
     "data": {
      "text/html": [
       "<div>\n",
       "<style scoped>\n",
       "    .dataframe tbody tr th:only-of-type {\n",
       "        vertical-align: middle;\n",
       "    }\n",
       "\n",
       "    .dataframe tbody tr th {\n",
       "        vertical-align: top;\n",
       "    }\n",
       "\n",
       "    .dataframe thead th {\n",
       "        text-align: right;\n",
       "    }\n",
       "</style>\n",
       "<table border=\"1\" class=\"dataframe\">\n",
       "  <thead>\n",
       "    <tr style=\"text-align: right;\">\n",
       "      <th></th>\n",
       "      <th>customer_id</th>\n",
       "      <th>quantity</th>\n",
       "      <th>order_id</th>\n",
       "      <th>revenue</th>\n",
       "    </tr>\n",
       "  </thead>\n",
       "  <tbody>\n",
       "    <tr>\n",
       "      <td>469</td>\n",
       "      <td>312e9a3e-5fca-43ff-a6a1-892d2b2d5ba6</td>\n",
       "      <td>1000</td>\n",
       "      <td>1</td>\n",
       "      <td>675000.0</td>\n",
       "    </tr>\n",
       "    <tr>\n",
       "      <td>287</td>\n",
       "      <td>1d6c8c1f-a799-4418-9af2-1ded47d7a85c</td>\n",
       "      <td>900</td>\n",
       "      <td>1</td>\n",
       "      <td>114750.0</td>\n",
       "    </tr>\n",
       "    <tr>\n",
       "      <td>1954</td>\n",
       "      <td>cd09ea73-d9ce-48c3-b4c5-018113735e80</td>\n",
       "      <td>600</td>\n",
       "      <td>1</td>\n",
       "      <td>17100.0</td>\n",
       "    </tr>\n",
       "    <tr>\n",
       "      <td>742</td>\n",
       "      <td>4d93d3f6-8b24-403b-a74b-f5173e40d7db</td>\n",
       "      <td>409</td>\n",
       "      <td>35</td>\n",
       "      <td>60828.0</td>\n",
       "    </tr>\n",
       "    <tr>\n",
       "      <td>1916</td>\n",
       "      <td>c971fb21-d54c-4134-938f-16b62ee86d3b</td>\n",
       "      <td>344</td>\n",
       "      <td>126</td>\n",
       "      <td>166988.0</td>\n",
       "    </tr>\n",
       "    <tr>\n",
       "      <td>199</td>\n",
       "      <td>146cd9bf-a95c-4afb-915b-5f6684b17444</td>\n",
       "      <td>334</td>\n",
       "      <td>1</td>\n",
       "      <td>49432.0</td>\n",
       "    </tr>\n",
       "    <tr>\n",
       "      <td>874</td>\n",
       "      <td>5d189e88-d4d6-4eac-ab43-fa65a3c4d106</td>\n",
       "      <td>300</td>\n",
       "      <td>1</td>\n",
       "      <td>15300.0</td>\n",
       "    </tr>\n",
       "    <tr>\n",
       "      <td>2097</td>\n",
       "      <td>db77c238-3c80-4032-9e3c-c30a43f4a650</td>\n",
       "      <td>224</td>\n",
       "      <td>1</td>\n",
       "      <td>23660.0</td>\n",
       "    </tr>\n",
       "    <tr>\n",
       "      <td>1585</td>\n",
       "      <td>a984c5b7-ff7e-4647-b84e-ef0b85a2762d</td>\n",
       "      <td>200</td>\n",
       "      <td>1</td>\n",
       "      <td>5800.0</td>\n",
       "    </tr>\n",
       "    <tr>\n",
       "      <td>1594</td>\n",
       "      <td>aa42dc38-780f-4b50-9a65-83b6fa64e766</td>\n",
       "      <td>170</td>\n",
       "      <td>1</td>\n",
       "      <td>8670.0</td>\n",
       "    </tr>\n",
       "  </tbody>\n",
       "</table>\n",
       "</div>"
      ],
      "text/plain": [
       "                               customer_id  quantity  order_id   revenue\n",
       "469   312e9a3e-5fca-43ff-a6a1-892d2b2d5ba6      1000         1  675000.0\n",
       "287   1d6c8c1f-a799-4418-9af2-1ded47d7a85c       900         1  114750.0\n",
       "1954  cd09ea73-d9ce-48c3-b4c5-018113735e80       600         1   17100.0\n",
       "742   4d93d3f6-8b24-403b-a74b-f5173e40d7db       409        35   60828.0\n",
       "1916  c971fb21-d54c-4134-938f-16b62ee86d3b       344       126  166988.0\n",
       "199   146cd9bf-a95c-4afb-915b-5f6684b17444       334         1   49432.0\n",
       "874   5d189e88-d4d6-4eac-ab43-fa65a3c4d106       300         1   15300.0\n",
       "2097  db77c238-3c80-4032-9e3c-c30a43f4a650       224         1   23660.0\n",
       "1585  a984c5b7-ff7e-4647-b84e-ef0b85a2762d       200         1    5800.0\n",
       "1594  aa42dc38-780f-4b50-9a65-83b6fa64e766       170         1    8670.0"
      ]
     },
     "execution_count": 26,
     "metadata": {},
     "output_type": "execute_result"
    }
   ],
   "source": [
    "#Сгруппируем данные по пользователю\n",
    "df.groupby(by = 'customer_id').agg({'quantity':'sum','order_id':'nunique','revenue':'sum'})\\\n",
    "    .reset_index()\\\n",
    "    .sort_values('quantity', ascending=False)\\\n",
    "    .head(10)"
   ]
  },
  {
   "cell_type": "code",
   "execution_count": 27,
   "metadata": {},
   "outputs": [
    {
     "data": {
      "text/html": [
       "<div>\n",
       "<style scoped>\n",
       "    .dataframe tbody tr th:only-of-type {\n",
       "        vertical-align: middle;\n",
       "    }\n",
       "\n",
       "    .dataframe tbody tr th {\n",
       "        vertical-align: top;\n",
       "    }\n",
       "\n",
       "    .dataframe thead th {\n",
       "        text-align: right;\n",
       "    }\n",
       "</style>\n",
       "<table border=\"1\" class=\"dataframe\">\n",
       "  <thead>\n",
       "    <tr style=\"text-align: right;\">\n",
       "      <th></th>\n",
       "      <th>date</th>\n",
       "      <th>customer_id</th>\n",
       "      <th>order_id</th>\n",
       "      <th>product</th>\n",
       "      <th>quantity</th>\n",
       "      <th>price</th>\n",
       "      <th>revenue</th>\n",
       "    </tr>\n",
       "  </thead>\n",
       "  <tbody>\n",
       "    <tr>\n",
       "      <td>5456</td>\n",
       "      <td>2019-06-18 15:00:00</td>\n",
       "      <td>312e9a3e-5fca-43ff-a6a1-892d2b2d5ba6</td>\n",
       "      <td>71743</td>\n",
       "      <td>вантуз с деревянной ручкой d14 см красный, burstenmann, 0522/0000</td>\n",
       "      <td>1000</td>\n",
       "      <td>675.0</td>\n",
       "      <td>675000.0</td>\n",
       "    </tr>\n",
       "  </tbody>\n",
       "</table>\n",
       "</div>"
      ],
      "text/plain": [
       "                    date                           customer_id  order_id  \\\n",
       "5456 2019-06-18 15:00:00  312e9a3e-5fca-43ff-a6a1-892d2b2d5ba6     71743   \n",
       "\n",
       "                                                                product  \\\n",
       "5456  вантуз с деревянной ручкой d14 см красный, burstenmann, 0522/0000   \n",
       "\n",
       "      quantity  price   revenue  \n",
       "5456      1000  675.0  675000.0  "
      ]
     },
     "execution_count": 27,
     "metadata": {},
     "output_type": "execute_result"
    }
   ],
   "source": [
    "#Просмотрим выборочные данные\n",
    "df.loc[df['customer_id'] == '312e9a3e-5fca-43ff-a6a1-892d2b2d5ba6']"
   ]
  },
  {
   "cell_type": "code",
   "execution_count": 28,
   "metadata": {},
   "outputs": [
    {
     "data": {
      "text/html": [
       "<div>\n",
       "<style scoped>\n",
       "    .dataframe tbody tr th:only-of-type {\n",
       "        vertical-align: middle;\n",
       "    }\n",
       "\n",
       "    .dataframe tbody tr th {\n",
       "        vertical-align: top;\n",
       "    }\n",
       "\n",
       "    .dataframe thead th {\n",
       "        text-align: right;\n",
       "    }\n",
       "</style>\n",
       "<table border=\"1\" class=\"dataframe\">\n",
       "  <thead>\n",
       "    <tr style=\"text-align: right;\">\n",
       "      <th></th>\n",
       "      <th>date</th>\n",
       "      <th>customer_id</th>\n",
       "      <th>order_id</th>\n",
       "      <th>product</th>\n",
       "      <th>quantity</th>\n",
       "      <th>price</th>\n",
       "      <th>revenue</th>\n",
       "    </tr>\n",
       "  </thead>\n",
       "  <tbody>\n",
       "    <tr>\n",
       "      <td>5071</td>\n",
       "      <td>2019-06-11 07:00:00</td>\n",
       "      <td>146cd9bf-a95c-4afb-915b-5f6684b17444</td>\n",
       "      <td>71668</td>\n",
       "      <td>вешалки мягкие для деликатных вещей 3 шт шоколад</td>\n",
       "      <td>334</td>\n",
       "      <td>148.0</td>\n",
       "      <td>49432.0</td>\n",
       "    </tr>\n",
       "  </tbody>\n",
       "</table>\n",
       "</div>"
      ],
      "text/plain": [
       "                    date                           customer_id  order_id  \\\n",
       "5071 2019-06-11 07:00:00  146cd9bf-a95c-4afb-915b-5f6684b17444     71668   \n",
       "\n",
       "                                               product  quantity  price  \\\n",
       "5071  вешалки мягкие для деликатных вещей 3 шт шоколад       334  148.0   \n",
       "\n",
       "      revenue  \n",
       "5071  49432.0  "
      ]
     },
     "execution_count": 28,
     "metadata": {},
     "output_type": "execute_result"
    }
   ],
   "source": [
    "#Просмотрим выборочные данные\n",
    "df.loc[df['customer_id'] == '146cd9bf-a95c-4afb-915b-5f6684b17444']"
   ]
  },
  {
   "cell_type": "code",
   "execution_count": 29,
   "metadata": {},
   "outputs": [
    {
     "data": {
      "text/html": [
       "<div>\n",
       "<style scoped>\n",
       "    .dataframe tbody tr th:only-of-type {\n",
       "        vertical-align: middle;\n",
       "    }\n",
       "\n",
       "    .dataframe tbody tr th {\n",
       "        vertical-align: top;\n",
       "    }\n",
       "\n",
       "    .dataframe thead th {\n",
       "        text-align: right;\n",
       "    }\n",
       "</style>\n",
       "<table border=\"1\" class=\"dataframe\">\n",
       "  <thead>\n",
       "    <tr style=\"text-align: right;\">\n",
       "      <th></th>\n",
       "      <th>date</th>\n",
       "      <th>customer_id</th>\n",
       "      <th>order_id</th>\n",
       "      <th>product</th>\n",
       "      <th>quantity</th>\n",
       "      <th>price</th>\n",
       "      <th>revenue</th>\n",
       "    </tr>\n",
       "  </thead>\n",
       "  <tbody>\n",
       "    <tr>\n",
       "      <td>1469</td>\n",
       "      <td>2019-01-10 13:00:00</td>\n",
       "      <td>58a4c3cc-504f-43ea-a74a-bae19e665552</td>\n",
       "      <td>69766</td>\n",
       "      <td>простынь вафельная 200х180 см wellness rw180-01 100% хлопок</td>\n",
       "      <td>3</td>\n",
       "      <td>1949.0</td>\n",
       "      <td>5847.0</td>\n",
       "    </tr>\n",
       "    <tr>\n",
       "      <td>1518</td>\n",
       "      <td>2019-01-15 13:00:00</td>\n",
       "      <td>58a4c3cc-504f-43ea-a74a-bae19e665552</td>\n",
       "      <td>69830</td>\n",
       "      <td>простынь вафельная 200х180 см wellness rw180-01 100% хлопок</td>\n",
       "      <td>27</td>\n",
       "      <td>1755.0</td>\n",
       "      <td>47385.0</td>\n",
       "    </tr>\n",
       "  </tbody>\n",
       "</table>\n",
       "</div>"
      ],
      "text/plain": [
       "                    date                           customer_id  order_id  \\\n",
       "1469 2019-01-10 13:00:00  58a4c3cc-504f-43ea-a74a-bae19e665552     69766   \n",
       "1518 2019-01-15 13:00:00  58a4c3cc-504f-43ea-a74a-bae19e665552     69830   \n",
       "\n",
       "                                                          product  quantity  \\\n",
       "1469  простынь вафельная 200х180 см wellness rw180-01 100% хлопок         3   \n",
       "1518  простынь вафельная 200х180 см wellness rw180-01 100% хлопок        27   \n",
       "\n",
       "       price  revenue  \n",
       "1469  1949.0   5847.0  \n",
       "1518  1755.0  47385.0  "
      ]
     },
     "execution_count": 29,
     "metadata": {},
     "output_type": "execute_result"
    }
   ],
   "source": [
    "#Просмотрим выборочные данные\n",
    "df.loc[df['customer_id'] == '58a4c3cc-504f-43ea-a74a-bae19e665552']"
   ]
  },
  {
   "cell_type": "code",
   "execution_count": 30,
   "metadata": {},
   "outputs": [
    {
     "data": {
      "text/html": [
       "<div>\n",
       "<style scoped>\n",
       "    .dataframe tbody tr th:only-of-type {\n",
       "        vertical-align: middle;\n",
       "    }\n",
       "\n",
       "    .dataframe tbody tr th {\n",
       "        vertical-align: top;\n",
       "    }\n",
       "\n",
       "    .dataframe thead th {\n",
       "        text-align: right;\n",
       "    }\n",
       "</style>\n",
       "<table border=\"1\" class=\"dataframe\">\n",
       "  <thead>\n",
       "    <tr style=\"text-align: right;\">\n",
       "      <th></th>\n",
       "      <th>date</th>\n",
       "      <th>customer_id</th>\n",
       "      <th>order_id</th>\n",
       "      <th>product</th>\n",
       "      <th>quantity</th>\n",
       "      <th>price</th>\n",
       "      <th>revenue</th>\n",
       "    </tr>\n",
       "  </thead>\n",
       "  <tbody>\n",
       "    <tr>\n",
       "      <td>211</td>\n",
       "      <td>2018-10-11 14:00:00</td>\n",
       "      <td>cd09ea73-d9ce-48c3-b4c5-018113735e80</td>\n",
       "      <td>68611</td>\n",
       "      <td>крепеж для пружины дверной, 1107055</td>\n",
       "      <td>150</td>\n",
       "      <td>19.0</td>\n",
       "      <td>2850.0</td>\n",
       "    </tr>\n",
       "    <tr>\n",
       "      <td>212</td>\n",
       "      <td>2018-10-11 14:00:00</td>\n",
       "      <td>cd09ea73-d9ce-48c3-b4c5-018113735e80</td>\n",
       "      <td>68611</td>\n",
       "      <td>пружина дверная 240 мм оцинкованная (д-19 мм) без крепления, 1107014</td>\n",
       "      <td>150</td>\n",
       "      <td>38.0</td>\n",
       "      <td>5700.0</td>\n",
       "    </tr>\n",
       "    <tr>\n",
       "      <td>266</td>\n",
       "      <td>2018-10-16 08:00:00</td>\n",
       "      <td>cd09ea73-d9ce-48c3-b4c5-018113735e80</td>\n",
       "      <td>68611</td>\n",
       "      <td>крепеж для пружины дверной, 1107055</td>\n",
       "      <td>150</td>\n",
       "      <td>19.0</td>\n",
       "      <td>2850.0</td>\n",
       "    </tr>\n",
       "    <tr>\n",
       "      <td>267</td>\n",
       "      <td>2018-10-16 08:00:00</td>\n",
       "      <td>cd09ea73-d9ce-48c3-b4c5-018113735e80</td>\n",
       "      <td>68611</td>\n",
       "      <td>пружина дверная 240 мм оцинкованная (д-19 мм) без крепления, 1107014</td>\n",
       "      <td>150</td>\n",
       "      <td>38.0</td>\n",
       "      <td>5700.0</td>\n",
       "    </tr>\n",
       "  </tbody>\n",
       "</table>\n",
       "</div>"
      ],
      "text/plain": [
       "                   date                           customer_id  order_id  \\\n",
       "211 2018-10-11 14:00:00  cd09ea73-d9ce-48c3-b4c5-018113735e80     68611   \n",
       "212 2018-10-11 14:00:00  cd09ea73-d9ce-48c3-b4c5-018113735e80     68611   \n",
       "266 2018-10-16 08:00:00  cd09ea73-d9ce-48c3-b4c5-018113735e80     68611   \n",
       "267 2018-10-16 08:00:00  cd09ea73-d9ce-48c3-b4c5-018113735e80     68611   \n",
       "\n",
       "                                                                  product  \\\n",
       "211                                   крепеж для пружины дверной, 1107055   \n",
       "212  пружина дверная 240 мм оцинкованная (д-19 мм) без крепления, 1107014   \n",
       "266                                   крепеж для пружины дверной, 1107055   \n",
       "267  пружина дверная 240 мм оцинкованная (д-19 мм) без крепления, 1107014   \n",
       "\n",
       "     quantity  price  revenue  \n",
       "211       150   19.0   2850.0  \n",
       "212       150   38.0   5700.0  \n",
       "266       150   19.0   2850.0  \n",
       "267       150   38.0   5700.0  "
      ]
     },
     "execution_count": 30,
     "metadata": {},
     "output_type": "execute_result"
    }
   ],
   "source": [
    "#Просмотрим выборочные данные\n",
    "df.loc[df['customer_id'] == 'cd09ea73-d9ce-48c3-b4c5-018113735e80']"
   ]
  },
  {
   "cell_type": "markdown",
   "metadata": {},
   "source": [
    "Благодаря дополнительному столбцу с выручкой мы увидели, что наши пользователи отличаются между собой. Кто-то делает один заказ и не возвращается, кто-то совершает постоянные заказы. При этом присутствуют как пользователи, которые делают один большой заказ по числу товаров и не возвращается, так и постоянные покупатели, которые совершают регулярные небольшие заказы."
   ]
  },
  {
   "cell_type": "markdown",
   "metadata": {},
   "source": [
    "Также, замечены транзакции в разные дни по одному заказу. На данном этапе, можем предположить, что заказ был отгружен в разные дни.\n",
    "Данные выглядят как неявные дубликаты, но также, пользователь мог повторно совершить точно такой же заказ.\n",
    "\n",
    "Для возможности предположить другие ситуации, было бы очень полезно добавить доп информацию о действиях пользователя типа: \"добавлен в корзину\", \"совершен заказ\" и тому подобное. Пока, будем считать, что все транзакции - это отдельные и верные совершенные заказы."
   ]
  },
  {
   "cell_type": "markdown",
   "metadata": {},
   "source": [
    "Пока наших клиентов можно разделить на тех, кто совершал один или несколько заказов, на тех, кто совершал большие покупки и нет.\n",
    "А также на тех, кто берет один товар и тех, кто совершает объемные покупки."
   ]
  },
  {
   "cell_type": "markdown",
   "metadata": {},
   "source": [
    "Посмотрим какие товары покупают наши клиенты."
   ]
  },
  {
   "cell_type": "code",
   "execution_count": 31,
   "metadata": {},
   "outputs": [
    {
     "data": {
      "text/plain": [
       "2341"
      ]
     },
     "execution_count": 31,
     "metadata": {},
     "output_type": "execute_result"
    }
   ],
   "source": [
    "#Просмотрим число уникальных значений\n",
    "len(df['product'].unique())"
   ]
  },
  {
   "cell_type": "code",
   "execution_count": 32,
   "metadata": {},
   "outputs": [
    {
     "data": {
      "text/plain": [
       "рассада кабачка сорт зебра кассета 6 шт e6                              79\n",
       "рассада кабачка сорт золотинка кассета 6 шт e6                          78\n",
       "рассада кабачка сорт белогор кассета 6 шт e6                            77\n",
       "пеларгония розебудная red pandora укорененный черенок                   76\n",
       "рассада кабачка сорт горный, кассета по 6шт                             76\n",
       "рассада кабачка сорт аэронавт, кассета по 6шт                           76\n",
       "тагетис крупноцветковый рассада однолетних цветов в кассете по 10 шт    76\n",
       "рассада огурца сорт каролина кассета 6 шт e6                            76\n",
       "рассада огурец фараон ячейки по 6 шт е6                                 76\n",
       "рассада патиссона сорт нло белый, кассета по 6шт                        75\n",
       "Name: product, dtype: int64"
      ]
     },
     "execution_count": 32,
     "metadata": {},
     "output_type": "execute_result"
    }
   ],
   "source": [
    "#Количество встречающихся значений\n",
    "df['product'].value_counts().head(10)"
   ]
  },
  {
   "cell_type": "markdown",
   "metadata": {},
   "source": [
    "Большой популярностью в нашем интернет-магазине пользуются \"растения\" - их заказывали чаще всего. Также, после просмотра заказов некоторых пользователей было видно наличие хозяйственных товаров и товаров для ремонта и дома."
   ]
  },
  {
   "cell_type": "code",
   "execution_count": 33,
   "metadata": {},
   "outputs": [
    {
     "data": {
      "text/html": [
       "<div>\n",
       "<style scoped>\n",
       "    .dataframe tbody tr th:only-of-type {\n",
       "        vertical-align: middle;\n",
       "    }\n",
       "\n",
       "    .dataframe tbody tr th {\n",
       "        vertical-align: top;\n",
       "    }\n",
       "\n",
       "    .dataframe thead th {\n",
       "        text-align: right;\n",
       "    }\n",
       "</style>\n",
       "<table border=\"1\" class=\"dataframe\">\n",
       "  <thead>\n",
       "    <tr style=\"text-align: right;\">\n",
       "      <th></th>\n",
       "      <th>product</th>\n",
       "      <th>quantity</th>\n",
       "      <th>price</th>\n",
       "      <th>revenue</th>\n",
       "    </tr>\n",
       "  </thead>\n",
       "  <tbody>\n",
       "    <tr>\n",
       "      <td>112</td>\n",
       "      <td>вантуз с деревянной ручкой d14 см красный, burstenmann, 0522/0000</td>\n",
       "      <td>1000</td>\n",
       "      <td>{675.0}</td>\n",
       "      <td>675000.0</td>\n",
       "    </tr>\n",
       "    <tr>\n",
       "      <td>1609</td>\n",
       "      <td>сумка-тележка 2-х колесная gimi argo красная</td>\n",
       "      <td>70</td>\n",
       "      <td>{1087.0}</td>\n",
       "      <td>76090.0</td>\n",
       "    </tr>\n",
       "    <tr>\n",
       "      <td>1610</td>\n",
       "      <td>сумка-тележка 2-х колесная gimi argo синяя</td>\n",
       "      <td>61</td>\n",
       "      <td>{1049.0, 1087.0}</td>\n",
       "      <td>65281.0</td>\n",
       "    </tr>\n",
       "    <tr>\n",
       "      <td>1188</td>\n",
       "      <td>простынь вафельная 200х180 см wellness rw180-01 100% хлопок</td>\n",
       "      <td>30</td>\n",
       "      <td>{1755.0, 1949.0}</td>\n",
       "      <td>53232.0</td>\n",
       "    </tr>\n",
       "    <tr>\n",
       "      <td>1658</td>\n",
       "      <td>сумка-тележка хозяйственная rolser bab010 rojo joy-1800 красная</td>\n",
       "      <td>12</td>\n",
       "      <td>{4139.0}</td>\n",
       "      <td>49668.0</td>\n",
       "    </tr>\n",
       "    <tr>\n",
       "      <td>185</td>\n",
       "      <td>вешалки мягкие для деликатных вещей 3 шт шоколад</td>\n",
       "      <td>335</td>\n",
       "      <td>{164.0, 148.0}</td>\n",
       "      <td>49596.0</td>\n",
       "    </tr>\n",
       "    <tr>\n",
       "      <td>1891</td>\n",
       "      <td>тележка багажная delta тбр-22 синий грузоподъемность 20 кг сумка и 50 кг каркас россия</td>\n",
       "      <td>59</td>\n",
       "      <td>{637.0, 574.0}</td>\n",
       "      <td>33992.0</td>\n",
       "    </tr>\n",
       "    <tr>\n",
       "      <td>1636</td>\n",
       "      <td>сумка-тележка хозяйственная andersen scala shopper plus, lini, синяя 133-108-90</td>\n",
       "      <td>6</td>\n",
       "      <td>{5249.0, 6149.0}</td>\n",
       "      <td>33294.0</td>\n",
       "    </tr>\n",
       "    <tr>\n",
       "      <td>829</td>\n",
       "      <td>муляж яблоко 9 см красное</td>\n",
       "      <td>618</td>\n",
       "      <td>{51.0, 59.0}</td>\n",
       "      <td>32702.0</td>\n",
       "    </tr>\n",
       "    <tr>\n",
       "      <td>290</td>\n",
       "      <td>гладильная доска ника гранд 122х42 см нг</td>\n",
       "      <td>18</td>\n",
       "      <td>{1799.0}</td>\n",
       "      <td>32382.0</td>\n",
       "    </tr>\n",
       "  </tbody>\n",
       "</table>\n",
       "</div>"
      ],
      "text/plain": [
       "                                                                                     product  \\\n",
       "112                        вантуз с деревянной ручкой d14 см красный, burstenmann, 0522/0000   \n",
       "1609                                            сумка-тележка 2-х колесная gimi argo красная   \n",
       "1610                                              сумка-тележка 2-х колесная gimi argo синяя   \n",
       "1188                             простынь вафельная 200х180 см wellness rw180-01 100% хлопок   \n",
       "1658                         сумка-тележка хозяйственная rolser bab010 rojo joy-1800 красная   \n",
       "185                                         вешалки мягкие для деликатных вещей 3 шт шоколад   \n",
       "1891  тележка багажная delta тбр-22 синий грузоподъемность 20 кг сумка и 50 кг каркас россия   \n",
       "1636         сумка-тележка хозяйственная andersen scala shopper plus, lini, синяя 133-108-90   \n",
       "829                                                                муляж яблоко 9 см красное   \n",
       "290                                                 гладильная доска ника гранд 122х42 см нг   \n",
       "\n",
       "      quantity             price   revenue  \n",
       "112       1000           {675.0}  675000.0  \n",
       "1609        70          {1087.0}   76090.0  \n",
       "1610        61  {1049.0, 1087.0}   65281.0  \n",
       "1188        30  {1755.0, 1949.0}   53232.0  \n",
       "1658        12          {4139.0}   49668.0  \n",
       "185        335    {164.0, 148.0}   49596.0  \n",
       "1891        59    {637.0, 574.0}   33992.0  \n",
       "1636         6  {5249.0, 6149.0}   33294.0  \n",
       "829        618      {51.0, 59.0}   32702.0  \n",
       "290         18          {1799.0}   32382.0  "
      ]
     },
     "execution_count": 33,
     "metadata": {},
     "output_type": "execute_result"
    }
   ],
   "source": [
    "#Группируем и сортируем по выручке\n",
    "df.groupby('product')\\\n",
    "    .agg({'quantity': 'sum', 'price':set, 'revenue': 'sum'})\\\n",
    "    .reset_index()\\\n",
    "    .sort_values(by='revenue', ascending=False)\\\n",
    "    .head(10)"
   ]
  },
  {
   "cell_type": "markdown",
   "metadata": {},
   "source": [
    "А вот наибольший доход принес нам товар из раздела хозяйственных товаров. За ним идут сумки-тележки одной марки, но разного цвета."
   ]
  },
  {
   "cell_type": "markdown",
   "metadata": {},
   "source": [
    "Далее, предлагаю посмотреть как часто совершают наши клиенты заказы и просмотреть средний чек на такого покупателя."
   ]
  },
  {
   "cell_type": "markdown",
   "metadata": {},
   "source": [
    "<a class=\"anchor\" id=\"section_2_1\"></a> \n",
    "### Количество заказов и средний чек на пользователя\n",
    "<a class=\"anchor\" href=\"#2\">Вернуться к оглавлению</a>"
   ]
  },
  {
   "cell_type": "code",
   "execution_count": 34,
   "metadata": {},
   "outputs": [],
   "source": [
    "#Добавим данные о дне, месяце, дне недели и год\n",
    "df['date_day'] = df['date'].dt.date\n",
    "df['month'] = df['date'].dt.month\n",
    "df['year'] = df['date'].dt.year\n",
    "df['hour'] = df['date'].dt.hour\n",
    "df['day_of_week'] = df['date'].dt.day_name()"
   ]
  },
  {
   "cell_type": "code",
   "execution_count": 35,
   "metadata": {},
   "outputs": [],
   "source": [
    "#Приведем столбец к нужному формату\n",
    "df['date_day'] = pd.to_datetime(df['date_day'], format='%Y-%m-%d')"
   ]
  },
  {
   "cell_type": "code",
   "execution_count": 36,
   "metadata": {},
   "outputs": [
    {
     "data": {
      "text/html": [
       "<div>\n",
       "<style scoped>\n",
       "    .dataframe tbody tr th:only-of-type {\n",
       "        vertical-align: middle;\n",
       "    }\n",
       "\n",
       "    .dataframe tbody tr th {\n",
       "        vertical-align: top;\n",
       "    }\n",
       "\n",
       "    .dataframe thead th {\n",
       "        text-align: right;\n",
       "    }\n",
       "</style>\n",
       "<table border=\"1\" class=\"dataframe\">\n",
       "  <thead>\n",
       "    <tr style=\"text-align: right;\">\n",
       "      <th></th>\n",
       "      <th>count</th>\n",
       "      <th>mean</th>\n",
       "      <th>std</th>\n",
       "      <th>min</th>\n",
       "      <th>25%</th>\n",
       "      <th>50%</th>\n",
       "      <th>75%</th>\n",
       "      <th>max</th>\n",
       "    </tr>\n",
       "  </thead>\n",
       "  <tbody>\n",
       "    <tr>\n",
       "      <td>customer_id</td>\n",
       "      <td>394.0</td>\n",
       "      <td>7.609137</td>\n",
       "      <td>3.586023</td>\n",
       "      <td>1.0</td>\n",
       "      <td>5.0</td>\n",
       "      <td>7.0</td>\n",
       "      <td>9.0</td>\n",
       "      <td>21.0</td>\n",
       "    </tr>\n",
       "  </tbody>\n",
       "</table>\n",
       "</div>"
      ],
      "text/plain": [
       "             count      mean       std  min  25%  50%  75%   max\n",
       "customer_id  394.0  7.609137  3.586023  1.0  5.0  7.0  9.0  21.0"
      ]
     },
     "execution_count": 36,
     "metadata": {},
     "output_type": "execute_result"
    }
   ],
   "source": [
    "#Сгруппируем данные по дню и количеству уникальных пользователей\n",
    "df.groupby('date_day').agg({'customer_id': 'nunique'}).sort_values(by = 'customer_id').describe().T"
   ]
  },
  {
   "cell_type": "code",
   "execution_count": 37,
   "metadata": {},
   "outputs": [
    {
     "data": {
      "text/html": [
       "<div>\n",
       "<style scoped>\n",
       "    .dataframe tbody tr th:only-of-type {\n",
       "        vertical-align: middle;\n",
       "    }\n",
       "\n",
       "    .dataframe tbody tr th {\n",
       "        vertical-align: top;\n",
       "    }\n",
       "\n",
       "    .dataframe thead th {\n",
       "        text-align: right;\n",
       "    }\n",
       "</style>\n",
       "<table border=\"1\" class=\"dataframe\">\n",
       "  <thead>\n",
       "    <tr style=\"text-align: right;\">\n",
       "      <th></th>\n",
       "      <th>count</th>\n",
       "      <th>mean</th>\n",
       "      <th>std</th>\n",
       "      <th>min</th>\n",
       "      <th>25%</th>\n",
       "      <th>50%</th>\n",
       "      <th>75%</th>\n",
       "      <th>max</th>\n",
       "    </tr>\n",
       "  </thead>\n",
       "  <tbody>\n",
       "    <tr>\n",
       "      <td>order_id</td>\n",
       "      <td>394.0</td>\n",
       "      <td>8.027919</td>\n",
       "      <td>3.930922</td>\n",
       "      <td>1.0</td>\n",
       "      <td>5.0</td>\n",
       "      <td>8.0</td>\n",
       "      <td>10.0</td>\n",
       "      <td>21.0</td>\n",
       "    </tr>\n",
       "  </tbody>\n",
       "</table>\n",
       "</div>"
      ],
      "text/plain": [
       "          count      mean       std  min  25%  50%   75%   max\n",
       "order_id  394.0  8.027919  3.930922  1.0  5.0  8.0  10.0  21.0"
      ]
     },
     "execution_count": 37,
     "metadata": {},
     "output_type": "execute_result"
    }
   ],
   "source": [
    "#Сгруппируем данные по дню и количеству уникальных заказов\n",
    "df.groupby('date_day').agg({'order_id': 'nunique'}).sort_values(by = 'order_id').describe().T"
   ]
  },
  {
   "cell_type": "code",
   "execution_count": 38,
   "metadata": {},
   "outputs": [
    {
     "data": {
      "text/html": [
       "<div>\n",
       "<style scoped>\n",
       "    .dataframe tbody tr th:only-of-type {\n",
       "        vertical-align: middle;\n",
       "    }\n",
       "\n",
       "    .dataframe tbody tr th {\n",
       "        vertical-align: top;\n",
       "    }\n",
       "\n",
       "    .dataframe thead th {\n",
       "        text-align: right;\n",
       "    }\n",
       "</style>\n",
       "<table border=\"1\" class=\"dataframe\">\n",
       "  <thead>\n",
       "    <tr style=\"text-align: right;\">\n",
       "      <th></th>\n",
       "      <th>count</th>\n",
       "      <th>mean</th>\n",
       "      <th>std</th>\n",
       "      <th>min</th>\n",
       "      <th>25%</th>\n",
       "      <th>50%</th>\n",
       "      <th>75%</th>\n",
       "      <th>max</th>\n",
       "    </tr>\n",
       "  </thead>\n",
       "  <tbody>\n",
       "    <tr>\n",
       "      <td>product</td>\n",
       "      <td>394.0</td>\n",
       "      <td>14.192893</td>\n",
       "      <td>12.153528</td>\n",
       "      <td>1.0</td>\n",
       "      <td>6.0</td>\n",
       "      <td>11.0</td>\n",
       "      <td>18.0</td>\n",
       "      <td>96.0</td>\n",
       "    </tr>\n",
       "  </tbody>\n",
       "</table>\n",
       "</div>"
      ],
      "text/plain": [
       "         count       mean        std  min  25%   50%   75%   max\n",
       "product  394.0  14.192893  12.153528  1.0  6.0  11.0  18.0  96.0"
      ]
     },
     "execution_count": 38,
     "metadata": {},
     "output_type": "execute_result"
    }
   ],
   "source": [
    "#Сгруппируем данные по дню и количеству уникальных товаров\n",
    "df.groupby('date_day').agg({'product': 'nunique'}).sort_values(by = 'product').describe().T"
   ]
  },
  {
   "cell_type": "markdown",
   "metadata": {},
   "source": [
    "У нас в среднем 7 уникальных пользователей в день, 8 заказов, в которых чаще всего добавлено 11 различных позиций товара."
   ]
  },
  {
   "cell_type": "code",
   "execution_count": 39,
   "metadata": {},
   "outputs": [
    {
     "data": {
      "image/png": "[encoded data removed]",
      "text/plain": [
       "<Figure size 1296x432 with 1 Axes>"
      ]
     },
     "metadata": {
      "needs_background": "light"
     },
     "output_type": "display_data"
    }
   ],
   "source": [
    "#Задаем размер графика\n",
    "plt.figure(figsize=(18,6))\n",
    "\n",
    "#Данные для графика\n",
    "ax = sns.boxplot(x='day_of_week', y='revenue', data=df)\n",
    "\n",
    "#Выводим на экран название графика\n",
    "plt.title('Выручка по дням недели', fontsize=14)\n",
    "ax.set_ylim(0, 2000)\n",
    "plt.show();"
   ]
  },
  {
   "cell_type": "markdown",
   "metadata": {},
   "source": [
    "Ежедневная выручка в разбивке по дням недели непревышает 750. При этом, в субботу и воскресенье - выручка ниже, чем в будние дни. Возможно, это связано с тем, что на выходных у наших клиентов мотивации сделать заказ меньше, чем в будние дни. Стоит обратить внимание на большое число \"выбросов\" в разные дни, в среду и четверг - их самое большее количество."
   ]
  },
  {
   "cell_type": "code",
   "execution_count": 40,
   "metadata": {},
   "outputs": [
    {
     "data": {
      "image/png": "[encoded data removed]",
      "text/plain": [
       "<Figure size 1296x432 with 1 Axes>"
      ]
     },
     "metadata": {
      "needs_background": "light"
     },
     "output_type": "display_data"
    }
   ],
   "source": [
    "#Задаем размер графика\n",
    "plt.figure(figsize=(18,6))\n",
    "\n",
    "#Данные для графика\n",
    "ax = sns.boxplot(x='hour', y='revenue', data=df)\n",
    "\n",
    "#Выводим на экран название графика\n",
    "plt.title('Выручка в разбивке по часам', fontsize=14)\n",
    "ax.set_ylim(0, 5000)\n",
    "plt.show();"
   ]
  },
  {
   "cell_type": "code",
   "execution_count": 41,
   "metadata": {},
   "outputs": [
    {
     "data": {
      "text/html": [
       "<div>\n",
       "<style scoped>\n",
       "    .dataframe tbody tr th:only-of-type {\n",
       "        vertical-align: middle;\n",
       "    }\n",
       "\n",
       "    .dataframe tbody tr th {\n",
       "        vertical-align: top;\n",
       "    }\n",
       "\n",
       "    .dataframe thead th {\n",
       "        text-align: right;\n",
       "    }\n",
       "</style>\n",
       "<table border=\"1\" class=\"dataframe\">\n",
       "  <thead>\n",
       "    <tr style=\"text-align: right;\">\n",
       "      <th></th>\n",
       "      <th></th>\n",
       "      <th>product</th>\n",
       "      <th>order_id</th>\n",
       "      <th>revenue</th>\n",
       "    </tr>\n",
       "    <tr>\n",
       "      <th>customer_id</th>\n",
       "      <th>date_day</th>\n",
       "      <th></th>\n",
       "      <th></th>\n",
       "      <th></th>\n",
       "    </tr>\n",
       "  </thead>\n",
       "  <tbody>\n",
       "    <tr>\n",
       "      <td>0adba506-249c-40b5-839d-a59d7a275cd7</td>\n",
       "      <td>2019-10-14</td>\n",
       "      <td>{зверобой продырявленный оптимист d- 9 см}</td>\n",
       "      <td>1</td>\n",
       "      <td>74.0</td>\n",
       "    </tr>\n",
       "    <tr>\n",
       "      <td>126dac4d-6486-49ed-a1be-9fd55a38a9de</td>\n",
       "      <td>2019-08-28</td>\n",
       "      <td>{сумка-тележка хозяйственная andersen scala shopper, lini, синяя 112-108-90}</td>\n",
       "      <td>1</td>\n",
       "      <td>4574.0</td>\n",
       "    </tr>\n",
       "    <tr>\n",
       "      <td>15056e00-1aaf-483b-b429-4e9f41ee82b6</td>\n",
       "      <td>2019-04-24</td>\n",
       "      <td>{кружка luminarc дисней микки колорс 250 мл l2127-1}</td>\n",
       "      <td>1</td>\n",
       "      <td>179.0</td>\n",
       "    </tr>\n",
       "    <tr>\n",
       "      <td>2eef43dd-ad75-4e55-a46d-edea403bcb6b</td>\n",
       "      <td>2019-08-16</td>\n",
       "      <td>{tepмокружка avex freeflow 700 мл сталь avex0776}</td>\n",
       "      <td>1</td>\n",
       "      <td>2399.0</td>\n",
       "    </tr>\n",
       "    <tr>\n",
       "      <td>4bd9c1e8-b2cc-4ec5-97eb-28d8f3c22d8d</td>\n",
       "      <td>2019-05-21</td>\n",
       "      <td>{мята перечная шоколадная chocolate d-7 см h-10 см укорененный черенок}</td>\n",
       "      <td>1</td>\n",
       "      <td>74.0</td>\n",
       "    </tr>\n",
       "    <tr>\n",
       "      <td>51f04abe-a71a-4694-87b7-ad9ef4930e51</td>\n",
       "      <td>2019-05-25</td>\n",
       "      <td>{мята перечная шоколадная chocolate d-7 см h-10 см укорененный черенок}</td>\n",
       "      <td>1</td>\n",
       "      <td>74.0</td>\n",
       "    </tr>\n",
       "    <tr>\n",
       "      <td>54437eae-ba9f-42fb-8b6f-68920ef12901</td>\n",
       "      <td>2018-12-24</td>\n",
       "      <td>{пуансеттия d-12 см белая}</td>\n",
       "      <td>1</td>\n",
       "      <td>134.0</td>\n",
       "    </tr>\n",
       "    <tr>\n",
       "      <td>639c4989-b0ab-412a-b7ec-be394cb2d372</td>\n",
       "      <td>2018-11-05</td>\n",
       "      <td>{сумка-тележка хозяйственная rolser imx005 marengo logic dos+2 серая}</td>\n",
       "      <td>1</td>\n",
       "      <td>6007.0</td>\n",
       "    </tr>\n",
       "    <tr>\n",
       "      <td>6e8c1c71-9e9c-49ed-96d4-513d6a587b43</td>\n",
       "      <td>2018-10-28</td>\n",
       "      <td>{пеларгония розоцветная ред розебуд молодые растения, рассада пеларгония (герань) зональная блу айз mix смесь объем 0,5 л, бегония ампельная, диам. 12 см, хризантема корейская смесь окрасок объем 0,75 л}</td>\n",
       "      <td>4</td>\n",
       "      <td>613.0</td>\n",
       "    </tr>\n",
       "    <tr>\n",
       "      <td>87adc8b2-dd12-448e-bc8a-5435923d9caf</td>\n",
       "      <td>2019-08-14</td>\n",
       "      <td>{сушилка для белья на ванну ника сб4}</td>\n",
       "      <td>1</td>\n",
       "      <td>449.0</td>\n",
       "    </tr>\n",
       "    <tr>\n",
       "      <td>8bdca104-a6cb-4475-9552-1e773caa1782</td>\n",
       "      <td>2019-03-07</td>\n",
       "      <td>{гладильная доска ника бэлль-юниор1 112х34,5 см бю1}</td>\n",
       "      <td>1</td>\n",
       "      <td>637.0</td>\n",
       "    </tr>\n",
       "    <tr>\n",
       "      <td>9aa22feb-3ce7-4b81-9a61-799f6139973e</td>\n",
       "      <td>2019-04-07</td>\n",
       "      <td>{швабра хозяйственная для пола picobello xl strong 33 см зеленая, leifheit, 57030}</td>\n",
       "      <td>1</td>\n",
       "      <td>3224.0</td>\n",
       "    </tr>\n",
       "    <tr>\n",
       "      <td>f1a516ce-8d65-47fd-a302-d4e02385c4a1</td>\n",
       "      <td>2018-12-13</td>\n",
       "      <td>{антуриум андрианум фиорино d-15 см}</td>\n",
       "      <td>1</td>\n",
       "      <td>719.0</td>\n",
       "    </tr>\n",
       "    <tr>\n",
       "      <td rowspan=\"4\" valign=\"top\">ff31d802-dae6-484d-a3dc-c9723f1cb538</td>\n",
       "      <td>2019-05-07</td>\n",
       "      <td>{стремянки colombo leonardo 2 ступени g300a02w серая 3646}</td>\n",
       "      <td>1</td>\n",
       "      <td>2999.0</td>\n",
       "    </tr>\n",
       "    <tr>\n",
       "      <td>2019-05-08</td>\n",
       "      <td>{стремянки colombo leonardo 2 ступени g300a02w серая 3646}</td>\n",
       "      <td>1</td>\n",
       "      <td>2999.0</td>\n",
       "    </tr>\n",
       "    <tr>\n",
       "      <td>2019-05-13</td>\n",
       "      <td>{стремянки colombo leonardo 2 ступени g300a02w серая 3646}</td>\n",
       "      <td>1</td>\n",
       "      <td>2999.0</td>\n",
       "    </tr>\n",
       "    <tr>\n",
       "      <td>2019-05-14</td>\n",
       "      <td>{стремянки colombo leonardo 2 ступени g300a02w серая 3646}</td>\n",
       "      <td>1</td>\n",
       "      <td>2999.0</td>\n",
       "    </tr>\n",
       "    <tr>\n",
       "      <td>ffaeab76-3a8d-49ee-860f-17273b2fc8a2</td>\n",
       "      <td>2019-10-31</td>\n",
       "      <td>{таз пластмассовый со стиральной доской (иж), 1404021}</td>\n",
       "      <td>1</td>\n",
       "      <td>397.0</td>\n",
       "    </tr>\n",
       "  </tbody>\n",
       "</table>\n",
       "</div>"
      ],
      "text/plain": [
       "                                                                                                                                                                                                                                                     product  \\\n",
       "customer_id                          date_day                                                                                                                                                                                                                  \n",
       "0adba506-249c-40b5-839d-a59d7a275cd7 2019-10-14                                                                                                                                                                   {зверобой продырявленный оптимист d- 9 см}   \n",
       "126dac4d-6486-49ed-a1be-9fd55a38a9de 2019-08-28                                                                                                                                 {сумка-тележка хозяйственная andersen scala shopper, lini, синяя 112-108-90}   \n",
       "15056e00-1aaf-483b-b429-4e9f41ee82b6 2019-04-24                                                                                                                                                         {кружка luminarc дисней микки колорс 250 мл l2127-1}   \n",
       "2eef43dd-ad75-4e55-a46d-edea403bcb6b 2019-08-16                                                                                                                                                            {tepмокружка avex freeflow 700 мл сталь avex0776}   \n",
       "4bd9c1e8-b2cc-4ec5-97eb-28d8f3c22d8d 2019-05-21                                                                                                                                      {мята перечная шоколадная chocolate d-7 см h-10 см укорененный черенок}   \n",
       "51f04abe-a71a-4694-87b7-ad9ef4930e51 2019-05-25                                                                                                                                      {мята перечная шоколадная chocolate d-7 см h-10 см укорененный черенок}   \n",
       "54437eae-ba9f-42fb-8b6f-68920ef12901 2018-12-24                                                                                                                                                                                   {пуансеттия d-12 см белая}   \n",
       "639c4989-b0ab-412a-b7ec-be394cb2d372 2018-11-05                                                                                                                                        {сумка-тележка хозяйственная rolser imx005 marengo logic dos+2 серая}   \n",
       "6e8c1c71-9e9c-49ed-96d4-513d6a587b43 2018-10-28  {пеларгония розоцветная ред розебуд молодые растения, рассада пеларгония (герань) зональная блу айз mix смесь объем 0,5 л, бегония ампельная, диам. 12 см, хризантема корейская смесь окрасок объем 0,75 л}   \n",
       "87adc8b2-dd12-448e-bc8a-5435923d9caf 2019-08-14                                                                                                                                                                        {сушилка для белья на ванну ника сб4}   \n",
       "8bdca104-a6cb-4475-9552-1e773caa1782 2019-03-07                                                                                                                                                         {гладильная доска ника бэлль-юниор1 112х34,5 см бю1}   \n",
       "9aa22feb-3ce7-4b81-9a61-799f6139973e 2019-04-07                                                                                                                           {швабра хозяйственная для пола picobello xl strong 33 см зеленая, leifheit, 57030}   \n",
       "f1a516ce-8d65-47fd-a302-d4e02385c4a1 2018-12-13                                                                                                                                                                         {антуриум андрианум фиорино d-15 см}   \n",
       "ff31d802-dae6-484d-a3dc-c9723f1cb538 2019-05-07                                                                                                                                                   {стремянки colombo leonardo 2 ступени g300a02w серая 3646}   \n",
       "                                     2019-05-08                                                                                                                                                   {стремянки colombo leonardo 2 ступени g300a02w серая 3646}   \n",
       "                                     2019-05-13                                                                                                                                                   {стремянки colombo leonardo 2 ступени g300a02w серая 3646}   \n",
       "                                     2019-05-14                                                                                                                                                   {стремянки colombo leonardo 2 ступени g300a02w серая 3646}   \n",
       "ffaeab76-3a8d-49ee-860f-17273b2fc8a2 2019-10-31                                                                                                                                                       {таз пластмассовый со стиральной доской (иж), 1404021}   \n",
       "\n",
       "                                                 order_id  revenue  \n",
       "customer_id                          date_day                       \n",
       "0adba506-249c-40b5-839d-a59d7a275cd7 2019-10-14         1     74.0  \n",
       "126dac4d-6486-49ed-a1be-9fd55a38a9de 2019-08-28         1   4574.0  \n",
       "15056e00-1aaf-483b-b429-4e9f41ee82b6 2019-04-24         1    179.0  \n",
       "2eef43dd-ad75-4e55-a46d-edea403bcb6b 2019-08-16         1   2399.0  \n",
       "4bd9c1e8-b2cc-4ec5-97eb-28d8f3c22d8d 2019-05-21         1     74.0  \n",
       "51f04abe-a71a-4694-87b7-ad9ef4930e51 2019-05-25         1     74.0  \n",
       "54437eae-ba9f-42fb-8b6f-68920ef12901 2018-12-24         1    134.0  \n",
       "639c4989-b0ab-412a-b7ec-be394cb2d372 2018-11-05         1   6007.0  \n",
       "6e8c1c71-9e9c-49ed-96d4-513d6a587b43 2018-10-28         4    613.0  \n",
       "87adc8b2-dd12-448e-bc8a-5435923d9caf 2019-08-14         1    449.0  \n",
       "8bdca104-a6cb-4475-9552-1e773caa1782 2019-03-07         1    637.0  \n",
       "9aa22feb-3ce7-4b81-9a61-799f6139973e 2019-04-07         1   3224.0  \n",
       "f1a516ce-8d65-47fd-a302-d4e02385c4a1 2018-12-13         1    719.0  \n",
       "ff31d802-dae6-484d-a3dc-c9723f1cb538 2019-05-07         1   2999.0  \n",
       "                                     2019-05-08         1   2999.0  \n",
       "                                     2019-05-13         1   2999.0  \n",
       "                                     2019-05-14         1   2999.0  \n",
       "ffaeab76-3a8d-49ee-860f-17273b2fc8a2 2019-10-31         1    397.0  "
      ]
     },
     "execution_count": 41,
     "metadata": {},
     "output_type": "execute_result"
    }
   ],
   "source": [
    "#Просмотрим срез данных, сгруппированный по пользователям\n",
    "df.query('hour > 1 and hour < 3')\\\n",
    "    .groupby(['customer_id','date_day'])\\\n",
    "    .agg(\n",
    "    {'product':set,\n",
    "     'order_id':'count', \n",
    "     'revenue':'sum'}\n",
    "        )"
   ]
  },
  {
   "cell_type": "markdown",
   "metadata": {},
   "source": [
    "Самые \"пиковые часы\", когда пользователи совершали заказы - 13 и 17. Также, были совершены заказы в 2 часа ночи, возможно, наши клиенты из других регионов. Было бы полезным собрать информацию о поле и геолокации пользователя(название города)."
   ]
  },
  {
   "cell_type": "code",
   "execution_count": 42,
   "metadata": {},
   "outputs": [
    {
     "data": {
      "image/png": "[encoded data removed]",
      "text/plain": [
       "<Figure size 1296x432 with 1 Axes>"
      ]
     },
     "metadata": {
      "needs_background": "light"
     },
     "output_type": "display_data"
    }
   ],
   "source": [
    "#Задаем размер графика\n",
    "plt.figure(figsize=(18,6))\n",
    "\n",
    "#Данные для графика\n",
    "ax = sns.boxplot(x='month', y='revenue', data=df)\n",
    "\n",
    "#Выводим на экран название графика\n",
    "plt.title('Выручка в разбивке по месяцам', fontsize=14)\n",
    "ax.set_ylim(0, 5000)\n",
    "plt.show();"
   ]
  },
  {
   "cell_type": "markdown",
   "metadata": {},
   "source": [
    "Январь - самый доходный месяц в нашей выборке, также стоит отметить - июнь, ноябрь и декабрь - в них присутствуют наибольшее количество \"выбросов\". \"Стабильные месяцев\" по получаемой выручке - с августа по октябрь."
   ]
  },
  {
   "cell_type": "code",
   "execution_count": 43,
   "metadata": {},
   "outputs": [],
   "source": [
    "#Считаем количество заказов и количество уникальных пользователей\n",
    "order_per_user = df.groupby(['date_day']).agg({'customer_id': ['count','nunique']})\n",
    "\n",
    "#Переименовываем столбцы полученной таблицы\n",
    "order_per_user.columns = ['n_orders', 'n_users']\n",
    "\n",
    "#Считаем среднее количество заказов на пользователя\n",
    "order_per_user['order_per_user'] = order_per_user['n_orders'] / order_per_user['n_users']"
   ]
  },
  {
   "cell_type": "code",
   "execution_count": 44,
   "metadata": {},
   "outputs": [
    {
     "data": {
      "text/html": [
       "<div>\n",
       "<style scoped>\n",
       "    .dataframe tbody tr th:only-of-type {\n",
       "        vertical-align: middle;\n",
       "    }\n",
       "\n",
       "    .dataframe tbody tr th {\n",
       "        vertical-align: top;\n",
       "    }\n",
       "\n",
       "    .dataframe thead th {\n",
       "        text-align: right;\n",
       "    }\n",
       "</style>\n",
       "<table border=\"1\" class=\"dataframe\">\n",
       "  <thead>\n",
       "    <tr style=\"text-align: right;\">\n",
       "      <th></th>\n",
       "      <th>n_orders</th>\n",
       "      <th>n_users</th>\n",
       "      <th>order_per_user</th>\n",
       "    </tr>\n",
       "    <tr>\n",
       "      <th>date_day</th>\n",
       "      <th></th>\n",
       "      <th></th>\n",
       "      <th></th>\n",
       "    </tr>\n",
       "  </thead>\n",
       "  <tbody>\n",
       "    <tr>\n",
       "      <td>2019-05-02</td>\n",
       "      <td>40</td>\n",
       "      <td>2</td>\n",
       "      <td>20.000000</td>\n",
       "    </tr>\n",
       "    <tr>\n",
       "      <td>2019-06-15</td>\n",
       "      <td>50</td>\n",
       "      <td>3</td>\n",
       "      <td>16.666667</td>\n",
       "    </tr>\n",
       "    <tr>\n",
       "      <td>2019-06-07</td>\n",
       "      <td>120</td>\n",
       "      <td>8</td>\n",
       "      <td>15.000000</td>\n",
       "    </tr>\n",
       "    <tr>\n",
       "      <td>2019-06-09</td>\n",
       "      <td>60</td>\n",
       "      <td>4</td>\n",
       "      <td>15.000000</td>\n",
       "    </tr>\n",
       "    <tr>\n",
       "      <td>2019-06-22</td>\n",
       "      <td>27</td>\n",
       "      <td>2</td>\n",
       "      <td>13.500000</td>\n",
       "    </tr>\n",
       "  </tbody>\n",
       "</table>\n",
       "</div>"
      ],
      "text/plain": [
       "            n_orders  n_users  order_per_user\n",
       "date_day                                     \n",
       "2019-05-02        40        2       20.000000\n",
       "2019-06-15        50        3       16.666667\n",
       "2019-06-07       120        8       15.000000\n",
       "2019-06-09        60        4       15.000000\n",
       "2019-06-22        27        2       13.500000"
      ]
     },
     "execution_count": 44,
     "metadata": {},
     "output_type": "execute_result"
    }
   ],
   "source": [
    "#Выведем на экран таблицу\n",
    "order_per_user.sort_values(by = 'order_per_user', ascending = False).head()"
   ]
  },
  {
   "cell_type": "code",
   "execution_count": 45,
   "metadata": {},
   "outputs": [
    {
     "data": {
      "image/png": "[encoded data removed]",
      "text/plain": [
       "<Figure size 1296x288 with 1 Axes>"
      ]
     },
     "metadata": {
      "needs_background": "light"
     },
     "output_type": "display_data"
    }
   ],
   "source": [
    "#Строим график по значениям \"order_per_user\" на каждый день\n",
    "ax = order_per_user['order_per_user'].plot(grid=True, figsize=(18, 4), title = 'Количество заказов в день на пользователя')\n",
    "\n",
    "#Подписываем оси\n",
    "ax.set_ylabel('Среднее количество заказов в день на пользователя')\n",
    "ax.set_xlabel('Дата, день');"
   ]
  },
  {
   "cell_type": "code",
   "execution_count": 46,
   "metadata": {},
   "outputs": [],
   "source": [
    "# Определим первый месяц когда пользователь совершил действие\n",
    "first_activity_month = df.groupby('customer_id').agg({'date_day':'min'}).reset_index()"
   ]
  },
  {
   "cell_type": "code",
   "execution_count": 47,
   "metadata": {},
   "outputs": [],
   "source": [
    "# Меняем формат столбца date_day\n",
    "first_activity_month['date_day'] = first_activity_month['date_day'].astype('datetime64[M]')"
   ]
  },
  {
   "cell_type": "code",
   "execution_count": 48,
   "metadata": {},
   "outputs": [],
   "source": [
    "#Присвоим имена колонкам в полученной таблице\n",
    "first_activity_month.columns = ['customer_id', 'first_activity_month']"
   ]
  },
  {
   "cell_type": "code",
   "execution_count": 49,
   "metadata": {},
   "outputs": [],
   "source": [
    "#Переименуем полученную серию данных для последующего объединения\n",
    "first_activity_month.name = 'first_activity_month'"
   ]
  },
  {
   "cell_type": "code",
   "execution_count": 50,
   "metadata": {},
   "outputs": [],
   "source": [
    "#Добавляем данные о первом месяце посещения сервиса в общую таблицу\n",
    "df = df.merge(first_activity_month, on='customer_id')"
   ]
  },
  {
   "cell_type": "code",
   "execution_count": 51,
   "metadata": {},
   "outputs": [],
   "source": [
    "df['cohort_lifetime'] = (\n",
    "    df['date_day'].astype('datetime64[M]') - \n",
    "    df['first_activity_month'].astype('datetime64[M]')\n",
    ")"
   ]
  },
  {
   "cell_type": "code",
   "execution_count": 52,
   "metadata": {},
   "outputs": [],
   "source": [
    "#В качестве делителя используем месяц\n",
    "df['cohort_lifetime'] = df['cohort_lifetime'] / np.timedelta64(1,'M')"
   ]
  },
  {
   "cell_type": "code",
   "execution_count": 53,
   "metadata": {},
   "outputs": [],
   "source": [
    "#Округляем до целых и приводим к формату \"int\"\n",
    "df['cohort_lifetime'] = df['cohort_lifetime'].round().astype('int') "
   ]
  },
  {
   "cell_type": "code",
   "execution_count": 54,
   "metadata": {},
   "outputs": [],
   "source": [
    "#Группируем данные по когорте и считаем для каждой когорты количество активных пользователей на определенный месяц\n",
    "cohorts = df.groupby(['first_activity_month','cohort_lifetime'])\\\n",
    "    .agg({'customer_id':'nunique'})\\\n",
    "    .reset_index() "
   ]
  },
  {
   "cell_type": "code",
   "execution_count": 55,
   "metadata": {},
   "outputs": [],
   "source": [
    "#Рассчитаем число пользователей в нулевом месяце\n",
    "initial_users_count = cohorts[cohorts['cohort_lifetime'] == 0][['first_activity_month','customer_id']]"
   ]
  },
  {
   "cell_type": "code",
   "execution_count": 56,
   "metadata": {},
   "outputs": [],
   "source": [
    "#Переименовываем столбец для удобства \"Число пользователей в когорте\"\n",
    "initial_users_count = initial_users_count.rename(columns={'customer_id':'cohort_users'})"
   ]
  },
  {
   "cell_type": "code",
   "execution_count": 57,
   "metadata": {},
   "outputs": [],
   "source": [
    "#Добавляем в таблицу с когортами общую сумму пользователей этой когорты\n",
    "cohorts = cohorts.merge(initial_users_count,on='first_activity_month')"
   ]
  },
  {
   "cell_type": "code",
   "execution_count": 58,
   "metadata": {},
   "outputs": [],
   "source": [
    "#Разделим число активных пользователей на число пользователей когорты\n",
    "cohorts['retention'] = cohorts['customer_id']/cohorts['cohort_users']"
   ]
  },
  {
   "cell_type": "code",
   "execution_count": 59,
   "metadata": {},
   "outputs": [],
   "source": [
    "#Собираем сводную таблицу\n",
    "retention_pivot = cohorts.pivot_table(\n",
    "        index='first_activity_month',\n",
    "        columns='cohort_lifetime',\n",
    "        values='retention',\n",
    "        aggfunc='sum')\n",
    "\n",
    "#Добавляем среднее значение метрики когорт\n",
    "retention_pivot.loc['mean'] = retention_pivot.mean()"
   ]
  },
  {
   "cell_type": "code",
   "execution_count": 60,
   "metadata": {},
   "outputs": [
    {
     "data": {
      "image/png": "[encoded data removed]",
      "text/plain": [
       "<Figure size 936x648 with 2 Axes>"
      ]
     },
     "metadata": {},
     "output_type": "display_data"
    }
   ],
   "source": [
    "# Строим тепловую карту по сводной таблице\n",
    "sns.set(style='white')\n",
    "plt.figure(figsize=(13, 9))\n",
    "plt.title('Retention Rate по месячным когортам')\n",
    "sns.heatmap(retention_pivot, annot=True, fmt='.1%', linewidths=1, linecolor='gray', vmin=0, vmax=0.05);"
   ]
  },
  {
   "cell_type": "markdown",
   "metadata": {},
   "source": [
    "Название нашего магазина иронично подходит под описание ситуации с возвращаемостью клиентов. \n",
    "\n",
    "После второго месяца жизни, почти никто из клиентов не возвращается. Самый высокий retention наблюдался у мартовской и апрельской когорт. Единицы пользователей из когорт января и апреля возвращаются к нам, что бы совершить заказ.\n",
    "\n",
    "Пока пользователей все еще тут, нужно вводить меры по их удержанию. Например, предалагая повторные заказы, рассказывать о возможных полезных товарах для пользователя на основании сделанных покупок. Расширить каналы привлечения клиентов. "
   ]
  },
  {
   "cell_type": "code",
   "execution_count": 61,
   "metadata": {},
   "outputs": [],
   "source": [
    "#Найдем количество новых покупателей ежемесячно\n",
    "cohort_sizes = df.groupby('first_activity_month').agg({'customer_id': 'nunique'}).reset_index()"
   ]
  },
  {
   "cell_type": "code",
   "execution_count": 62,
   "metadata": {},
   "outputs": [],
   "source": [
    "#Переименуем колонку customer_id\n",
    "cohort_sizes = cohort_sizes.rename(columns={'customer_id':'cohort_users'})"
   ]
  },
  {
   "cell_type": "code",
   "execution_count": 63,
   "metadata": {},
   "outputs": [
    {
     "data": {
      "text/html": [
       "<div>\n",
       "<style scoped>\n",
       "    .dataframe tbody tr th:only-of-type {\n",
       "        vertical-align: middle;\n",
       "    }\n",
       "\n",
       "    .dataframe tbody tr th {\n",
       "        vertical-align: top;\n",
       "    }\n",
       "\n",
       "    .dataframe thead th {\n",
       "        text-align: right;\n",
       "    }\n",
       "</style>\n",
       "<table border=\"1\" class=\"dataframe\">\n",
       "  <thead>\n",
       "    <tr style=\"text-align: right;\">\n",
       "      <th></th>\n",
       "      <th>first_activity_month</th>\n",
       "      <th>cohort_users</th>\n",
       "    </tr>\n",
       "  </thead>\n",
       "  <tbody>\n",
       "    <tr>\n",
       "      <td>0</td>\n",
       "      <td>2018-10-01</td>\n",
       "      <td>181</td>\n",
       "    </tr>\n",
       "    <tr>\n",
       "      <td>1</td>\n",
       "      <td>2018-11-01</td>\n",
       "      <td>177</td>\n",
       "    </tr>\n",
       "    <tr>\n",
       "      <td>2</td>\n",
       "      <td>2018-12-01</td>\n",
       "      <td>237</td>\n",
       "    </tr>\n",
       "    <tr>\n",
       "      <td>3</td>\n",
       "      <td>2019-01-01</td>\n",
       "      <td>148</td>\n",
       "    </tr>\n",
       "    <tr>\n",
       "      <td>4</td>\n",
       "      <td>2019-02-01</td>\n",
       "      <td>243</td>\n",
       "    </tr>\n",
       "    <tr>\n",
       "      <td>5</td>\n",
       "      <td>2019-03-01</td>\n",
       "      <td>230</td>\n",
       "    </tr>\n",
       "    <tr>\n",
       "      <td>6</td>\n",
       "      <td>2019-04-01</td>\n",
       "      <td>228</td>\n",
       "    </tr>\n",
       "    <tr>\n",
       "      <td>7</td>\n",
       "      <td>2019-05-01</td>\n",
       "      <td>166</td>\n",
       "    </tr>\n",
       "    <tr>\n",
       "      <td>8</td>\n",
       "      <td>2019-06-01</td>\n",
       "      <td>152</td>\n",
       "    </tr>\n",
       "    <tr>\n",
       "      <td>9</td>\n",
       "      <td>2019-07-01</td>\n",
       "      <td>183</td>\n",
       "    </tr>\n",
       "    <tr>\n",
       "      <td>10</td>\n",
       "      <td>2019-08-01</td>\n",
       "      <td>162</td>\n",
       "    </tr>\n",
       "    <tr>\n",
       "      <td>11</td>\n",
       "      <td>2019-09-01</td>\n",
       "      <td>174</td>\n",
       "    </tr>\n",
       "    <tr>\n",
       "      <td>12</td>\n",
       "      <td>2019-10-01</td>\n",
       "      <td>170</td>\n",
       "    </tr>\n",
       "  </tbody>\n",
       "</table>\n",
       "</div>"
      ],
      "text/plain": [
       "   first_activity_month  cohort_users\n",
       "0            2018-10-01           181\n",
       "1            2018-11-01           177\n",
       "2            2018-12-01           237\n",
       "3            2019-01-01           148\n",
       "4            2019-02-01           243\n",
       "5            2019-03-01           230\n",
       "6            2019-04-01           228\n",
       "7            2019-05-01           166\n",
       "8            2019-06-01           152\n",
       "9            2019-07-01           183\n",
       "10           2019-08-01           162\n",
       "11           2019-09-01           174\n",
       "12           2019-10-01           170"
      ]
     },
     "execution_count": 63,
     "metadata": {},
     "output_type": "execute_result"
    }
   ],
   "source": [
    "#Выведем на экран таблиц cohort_sizes\n",
    "cohort_sizes"
   ]
  },
  {
   "cell_type": "code",
   "execution_count": 64,
   "metadata": {},
   "outputs": [],
   "source": [
    "#Формируем когорты\n",
    "cohorts = df.groupby(['first_activity_month', 'date_day']).agg({'order_id': 'nunique'}).reset_index()"
   ]
  },
  {
   "cell_type": "code",
   "execution_count": 65,
   "metadata": {},
   "outputs": [],
   "source": [
    "#Соединяем две полученные таблицы\n",
    "report = pd.merge(cohort_sizes, cohorts, on='first_activity_month')"
   ]
  },
  {
   "cell_type": "code",
   "execution_count": 66,
   "metadata": {},
   "outputs": [],
   "source": [
    "#Определяем возраст когорты и приводим к нужному типу данных\n",
    "report['age'] = (report['date_day'] - report['first_activity_month']) / np.timedelta64(1, 'M')\n",
    "report['age'] = report['age'].round().astype('int')"
   ]
  },
  {
   "cell_type": "code",
   "execution_count": 67,
   "metadata": {},
   "outputs": [
    {
     "data": {
      "text/html": [
       "<div>\n",
       "<style scoped>\n",
       "    .dataframe tbody tr th:only-of-type {\n",
       "        vertical-align: middle;\n",
       "    }\n",
       "\n",
       "    .dataframe tbody tr th {\n",
       "        vertical-align: top;\n",
       "    }\n",
       "\n",
       "    .dataframe thead th {\n",
       "        text-align: right;\n",
       "    }\n",
       "</style>\n",
       "<table border=\"1\" class=\"dataframe\">\n",
       "  <thead>\n",
       "    <tr style=\"text-align: right;\">\n",
       "      <th></th>\n",
       "      <th>first_activity_month</th>\n",
       "      <th>cohort_users</th>\n",
       "      <th>date_day</th>\n",
       "      <th>order_id</th>\n",
       "      <th>age</th>\n",
       "    </tr>\n",
       "  </thead>\n",
       "  <tbody>\n",
       "    <tr>\n",
       "      <td>0</td>\n",
       "      <td>2018-10-01</td>\n",
       "      <td>181</td>\n",
       "      <td>2018-10-01</td>\n",
       "      <td>11</td>\n",
       "      <td>0</td>\n",
       "    </tr>\n",
       "    <tr>\n",
       "      <td>1</td>\n",
       "      <td>2018-10-01</td>\n",
       "      <td>181</td>\n",
       "      <td>2018-10-02</td>\n",
       "      <td>15</td>\n",
       "      <td>0</td>\n",
       "    </tr>\n",
       "    <tr>\n",
       "      <td>2</td>\n",
       "      <td>2018-10-01</td>\n",
       "      <td>181</td>\n",
       "      <td>2018-10-03</td>\n",
       "      <td>8</td>\n",
       "      <td>0</td>\n",
       "    </tr>\n",
       "    <tr>\n",
       "      <td>3</td>\n",
       "      <td>2018-10-01</td>\n",
       "      <td>181</td>\n",
       "      <td>2018-10-04</td>\n",
       "      <td>11</td>\n",
       "      <td>0</td>\n",
       "    </tr>\n",
       "    <tr>\n",
       "      <td>4</td>\n",
       "      <td>2018-10-01</td>\n",
       "      <td>181</td>\n",
       "      <td>2018-10-05</td>\n",
       "      <td>7</td>\n",
       "      <td>0</td>\n",
       "    </tr>\n",
       "  </tbody>\n",
       "</table>\n",
       "</div>"
      ],
      "text/plain": [
       "  first_activity_month  cohort_users   date_day  order_id  age\n",
       "0           2018-10-01           181 2018-10-01        11    0\n",
       "1           2018-10-01           181 2018-10-02        15    0\n",
       "2           2018-10-01           181 2018-10-03         8    0\n",
       "3           2018-10-01           181 2018-10-04        11    0\n",
       "4           2018-10-01           181 2018-10-05         7    0"
      ]
     },
     "execution_count": 67,
     "metadata": {},
     "output_type": "execute_result"
    }
   ],
   "source": [
    "#Выводим первые пять строк таблицы report\n",
    "report.head()"
   ]
  },
  {
   "cell_type": "code",
   "execution_count": 68,
   "metadata": {},
   "outputs": [],
   "source": [
    "#Считаем среднее количество покупок\n",
    "report['avg_order'] = report['order_id'] / report['cohort_users']"
   ]
  },
  {
   "cell_type": "code",
   "execution_count": 69,
   "metadata": {},
   "outputs": [],
   "source": [
    "#Формируем полученные данные в сводную таблицу\n",
    "result = report.pivot_table(\n",
    "        index='first_activity_month', \n",
    "        columns='age', \n",
    "        values='avg_order', \n",
    "        aggfunc='sum')\n",
    "\n",
    "#Добавляем среднее значение метрики когорт\n",
    "result.loc['mean'] = result.mean()"
   ]
  },
  {
   "cell_type": "code",
   "execution_count": 70,
   "metadata": {},
   "outputs": [
    {
     "data": {
      "image/png": "[encoded data removed]",
      "text/plain": [
       "<Figure size 936x576 with 2 Axes>"
      ]
     },
     "metadata": {},
     "output_type": "display_data"
    }
   ],
   "source": [
    "# Строим тепловую карту по сводной таблице\n",
    "sns.set(style='white')\n",
    "plt.figure(figsize=(13, 8))\n",
    "plt.title('Среднее количество покупок клиента')\n",
    "sns.heatmap(result.cumsum(axis=1), annot=True, fmt='.2f', linewidths=1, linecolor='gray');"
   ]
  },
  {
   "cell_type": "markdown",
   "metadata": {},
   "source": [
    "Здесь выделяется майская когорта, которая в июне совершила большое количество заказов и в последующие месяцы изредка возвращалась и совершала заказы. В среднем, покупателей совершает 1-2 покупки."
   ]
  },
  {
   "cell_type": "code",
   "execution_count": 71,
   "metadata": {},
   "outputs": [
    {
     "data": {
      "text/plain": [
       "array([ 3384. ,  5094. , 15108.5])"
      ]
     },
     "execution_count": 71,
     "metadata": {},
     "output_type": "execute_result"
    }
   ],
   "source": [
    "#Просмотрим основную часть выборки по выручке\n",
    "np.percentile(df.groupby('customer_id')['revenue'].sum(), [90,95,99])"
   ]
  },
  {
   "cell_type": "code",
   "execution_count": 72,
   "metadata": {},
   "outputs": [],
   "source": [
    "#Группируем полученные данные, суммируем выручку по каждому пользователю и считаем выручку на пользователя\n",
    "orders_grouped_by_cohorts = df\\\n",
    "    .groupby(['first_activity_month','date_day'])\\\n",
    "    .agg({'revenue':'sum', 'customer_id':'nunique'})\n",
    "\n",
    "orders_grouped_by_cohorts['revenue_per_user'] = orders_grouped_by_cohorts['revenue'] / orders_grouped_by_cohorts['customer_id']\n",
    "\n",
    "orders_grouped_by_cohorts = orders_grouped_by_cohorts.reset_index()"
   ]
  },
  {
   "cell_type": "code",
   "execution_count": 73,
   "metadata": {},
   "outputs": [],
   "source": [
    "#Формируем когорты\n",
    "orders_grouped_by_cohorts['cohort_lifetime'] = orders_grouped_by_cohorts['date_day'] - orders_grouped_by_cohorts['first_activity_month']\n",
    "orders_grouped_by_cohorts['cohort_lifetime'] = orders_grouped_by_cohorts['cohort_lifetime'] / np.timedelta64(1,'M')\n",
    "orders_grouped_by_cohorts['cohort_lifetime'] = orders_grouped_by_cohorts['cohort_lifetime'].round().astype('int')"
   ]
  },
  {
   "cell_type": "code",
   "execution_count": 74,
   "metadata": {},
   "outputs": [],
   "source": [
    "#Строим сводную таблицу средних чеков наших когорт\n",
    "lifetime_pivot = orders_grouped_by_cohorts.pivot_table(\n",
    "    index='first_activity_month',\n",
    "    columns='cohort_lifetime',\n",
    "    values='revenue_per_user',\n",
    "    aggfunc='mean')\n",
    "\n",
    "lifetime_pivot.loc['mean'] = lifetime_pivot.mean()"
   ]
  },
  {
   "cell_type": "code",
   "execution_count": 75,
   "metadata": {},
   "outputs": [
    {
     "data": {
      "image/png": "[encoded data removed]",
      "text/plain": [
       "<Figure size 936x648 with 2 Axes>"
      ]
     },
     "metadata": {},
     "output_type": "display_data"
    }
   ],
   "source": [
    "#Строим тепловую карту среднего чека\n",
    "plt.figure(figsize=(13, 9))\n",
    "plt.title('Средний чек покупателей')\n",
    "sns.heatmap(lifetime_pivot, annot=True, fmt='.2f', linewidths=1, linecolor='black', vmax=5094);"
   ]
  },
  {
   "cell_type": "markdown",
   "metadata": {},
   "source": [
    "Мы видим, что средний чек на пользователя колеблется и изменяется из месяца в месяц. Наша майская когорта вернулась, совершила рекордное количество покупок для магазина и подняла показатель среднего чека вдвое, но в последующие месяцы неохотно совершала покупки.\n",
    "Низкий средний чек показали когорты ноября и декабря. Декабрьская когорта вернулась в магазин в январе-феврале, совершила покупки и больше не возвращалась."
   ]
  },
  {
   "cell_type": "markdown",
   "metadata": {},
   "source": [
    "<a class=\"anchor\" id=\"section_2_2\"></a> \n",
    "### Когортный анализ и LTV\n",
    "<a class=\"anchor\" href=\"#2\">Вернуться к оглавлению</a>"
   ]
  },
  {
   "cell_type": "markdown",
   "metadata": {},
   "source": [
    "Просмотрев ситуацию с возвращаемостью клиентов и числом покупок - жизнь наших когорт крайне низкая. Предлагаю сгруппировать и посчитать средний LTV."
   ]
  },
  {
   "cell_type": "code",
   "execution_count": 76,
   "metadata": {},
   "outputs": [],
   "source": [
    "# Формируем данные по выручке\n",
    "cohorts = df.groupby(['first_activity_month', 'date_day']).agg({'revenue': 'sum'}).reset_index()"
   ]
  },
  {
   "cell_type": "code",
   "execution_count": 77,
   "metadata": {},
   "outputs": [],
   "source": [
    "# Объединяем две таблицы cohort_sizes и cohorts\n",
    "report = pd.merge(cohort_sizes, cohorts, on='first_activity_month')\n",
    "\n",
    "# Вычисляем средний ltv\n",
    "report['lifetime'] = (report['date_day'] - report['first_activity_month']) / np.timedelta64(1, 'M')\n",
    "report['lifetime'] = report['lifetime'].round().astype('int')\n",
    "report['ltv'] = report['revenue'] / report['cohort_users']\n",
    "\n",
    "result = report.pivot_table(\n",
    "        index='first_activity_month', \n",
    "        columns='lifetime', \n",
    "        values='ltv', \n",
    "        aggfunc='mean')\n",
    "\n",
    "#Добавляем среднее значение метрики когорт\n",
    "result.loc['mean'] = result.mean()"
   ]
  },
  {
   "cell_type": "code",
   "execution_count": 78,
   "metadata": {},
   "outputs": [
    {
     "data": {
      "image/png": "[encoded data removed]",
      "text/plain": [
       "<Figure size 936x576 with 2 Axes>"
      ]
     },
     "metadata": {},
     "output_type": "display_data"
    }
   ],
   "source": [
    "# Строим тепловую карту среднего ltv когорт\n",
    "plt.figure(figsize=(13, 8))\n",
    "plt.title('LTV когорт')\n",
    "sns.heatmap(result.cumsum(axis=1).round(2), annot=True, fmt='.2f', linewidths=1, linecolor='black', vmax = 180);"
   ]
  },
  {
   "cell_type": "markdown",
   "metadata": {},
   "source": [
    "LTV когорт почти не поднимается до 180, самый высокий равномерно нарастающий LTV показала январская когорта. Когорты апреля и мая показывают небольшой рост с каждым месяцем жизни."
   ]
  },
  {
   "cell_type": "markdown",
   "metadata": {},
   "source": [
    "В целом, проведя анализ числа покупок, среднего чек, Retention rate и LTV, можно сделать первые выводы о наших пользователях на основе когортного анализа:\n",
    "\n",
    "Когорта **2018-10-01**: средний чек - 3219.64 на пятый месяц жизни, среднее количество покупок - 3.87, низкий retention, max ltv - 185.40 не вернулись. Обратить внимание - данная группа приносила стабильный доход, возможно остались лояльные клиенты из данной когорты, которые захотят вернуться.\n",
    "\n",
    "Когорта **2018-11-01**: max средний чек - 1702.57 на первый месяц жизни, среднее количество покупок - 2.44, низкий retention, max ltv - 125.66 не вернулись\n",
    "\n",
    "Когорта **2018-12-01**: max средний чек - 2022.87 на второй месяц жизни, среднее количество покупок - 1.46, низкий retention, max ltv - 86.19 не вернулись\n",
    "\n",
    "Когорта **2019-01-01**: max средний чек - 5518.67 на третий месяц жизни, среднее количество покупок - 1.54, низкий retention, max ltv - 146.06 не вернулись. Высокий показатель среднего чека мог быть обусловлен праздниками в марте, возможно, сезонные клиенты.\n",
    "\n",
    "Когорта **2019-02-01**: max средний чек - 1012.54 на первый месяц жизни, среднее количество покупок - 1.68, низкий retention, max ltv - 80.30 не вернулись\n",
    "\n",
    "Когорта **2019-03-01**: max средний чек - 1148.80 на второй месяц жизни, среднее количество покупок - 2.33, низкий retention, max ltv - 81.54 не вернулись. Возможно, сезонные клиенты.\n",
    "\n",
    "Когорта **2019-04-01**: max средний чек - 2171.15 на третий месяц жизни, среднее количество покупок - 3.44, низкий retention, max ltv - 128. Обратить внимание - возможно, в данной группе остались лояльные клиенты, которые могут вернуться. Возможно, сезонные клиенты.\n",
    "\n",
    "Когорта **2019-05-01**: max средний чек - 3804.33 на второй месяц жизни, среднее количество покупок - 11.34, низкий retention, max ltv - 119.87 Обратить внимание - возможно, в данной группе остались лояльные клиенты, которые могут вернуться. Возможно, сезонные клиенты.\n",
    "\n",
    "Когорта **2019-06-01**: max средний чек -8209.62 на второй месяц жизни , среднее количество покупок - 2.14, низкий retention, max ltv - 402.84 не вернулись\n",
    "\n",
    "Когорта **2019-07-01**: max средний чек - 1594.36 на второй месяц жизни, среднее количество покупок - 2.14, низкий retention, max ltv - 94.08 не вернулись\n",
    "\n",
    "Когорта **2019-08-01**: max средний чек - 1094.82 на второй месяц жизни, среднее количество покупок - 1.31, низкий retention, max ltv - 76.83 не вернулись.\n",
    "\n",
    "Когорта **2019-09-01**: max средний чек - 1096.70 в первый месяц жизни, среднее количество покупок - 1.41, низкий retention, max ltv - 73.04 Обратить внимание - возможно, в данной группе остались лояльные клиенты, которые могут вернуться.\n",
    "\n",
    "Когорта **2019-10-01**: max средний чек - 1403.46 в первый месяц жизни, среднее количество покупок - 1.44, низкий retention, max ltv - 91.32"
   ]
  },
  {
   "cell_type": "markdown",
   "metadata": {},
   "source": [
    "<a class=\"anchor\" id=\"chapter3\"></a> \n",
    "## Сегментация пользователей\n",
    "<a class=\"anchor\" href=\"#2\">Вернуться к оглавлению</a>"
   ]
  },
  {
   "cell_type": "markdown",
   "metadata": {},
   "source": [
    "На основании предварительного анализа, есть предложение сегментировать пользователей с помощью **RFM-score**.\n",
    "\n",
    "*Recency* — давность (как давно наши клиенты что-то покупали)\n",
    "\n",
    "*Frequency* — частота (как часто они у нас покупают)\n",
    "\n",
    "*Monetary* — деньги (общая сумма покупок)\n",
    "\n",
    "С помощью этого анализа, мы сможем выделить клиентов, что бы определить как работать с каждой группой клиентов."
   ]
  },
  {
   "cell_type": "code",
   "execution_count": 79,
   "metadata": {},
   "outputs": [
    {
     "data": {
      "text/html": [
       "<div>\n",
       "<style scoped>\n",
       "    .dataframe tbody tr th:only-of-type {\n",
       "        vertical-align: middle;\n",
       "    }\n",
       "\n",
       "    .dataframe tbody tr th {\n",
       "        vertical-align: top;\n",
       "    }\n",
       "\n",
       "    .dataframe thead th {\n",
       "        text-align: right;\n",
       "    }\n",
       "</style>\n",
       "<table border=\"1\" class=\"dataframe\">\n",
       "  <thead>\n",
       "    <tr style=\"text-align: right;\">\n",
       "      <th></th>\n",
       "      <th>date</th>\n",
       "      <th>customer_id</th>\n",
       "      <th>order_id</th>\n",
       "      <th>product</th>\n",
       "      <th>quantity</th>\n",
       "      <th>price</th>\n",
       "      <th>revenue</th>\n",
       "      <th>date_day</th>\n",
       "      <th>month</th>\n",
       "      <th>year</th>\n",
       "      <th>hour</th>\n",
       "      <th>day_of_week</th>\n",
       "      <th>first_activity_month</th>\n",
       "      <th>cohort_lifetime</th>\n",
       "    </tr>\n",
       "  </thead>\n",
       "  <tbody>\n",
       "    <tr>\n",
       "      <td>0</td>\n",
       "      <td>2018-10-01</td>\n",
       "      <td>ee47d746-6d2f-4d3c-9622-c31412542920</td>\n",
       "      <td>68477</td>\n",
       "      <td>комнатное растение в горшке алое вера, d12, h30</td>\n",
       "      <td>1</td>\n",
       "      <td>142.0</td>\n",
       "      <td>142.0</td>\n",
       "      <td>2018-10-01</td>\n",
       "      <td>10</td>\n",
       "      <td>2018</td>\n",
       "      <td>0</td>\n",
       "      <td>Monday</td>\n",
       "      <td>2018-10-01</td>\n",
       "      <td>0</td>\n",
       "    </tr>\n",
       "    <tr>\n",
       "      <td>1</td>\n",
       "      <td>2018-10-01</td>\n",
       "      <td>ee47d746-6d2f-4d3c-9622-c31412542920</td>\n",
       "      <td>68477</td>\n",
       "      <td>комнатное растение в горшке кофе арабика, d12, h25</td>\n",
       "      <td>1</td>\n",
       "      <td>194.0</td>\n",
       "      <td>194.0</td>\n",
       "      <td>2018-10-01</td>\n",
       "      <td>10</td>\n",
       "      <td>2018</td>\n",
       "      <td>0</td>\n",
       "      <td>Monday</td>\n",
       "      <td>2018-10-01</td>\n",
       "      <td>0</td>\n",
       "    </tr>\n",
       "    <tr>\n",
       "      <td>2</td>\n",
       "      <td>2018-10-01</td>\n",
       "      <td>ee47d746-6d2f-4d3c-9622-c31412542920</td>\n",
       "      <td>68477</td>\n",
       "      <td>радермахера d-12 см h-20 см</td>\n",
       "      <td>1</td>\n",
       "      <td>112.0</td>\n",
       "      <td>112.0</td>\n",
       "      <td>2018-10-01</td>\n",
       "      <td>10</td>\n",
       "      <td>2018</td>\n",
       "      <td>0</td>\n",
       "      <td>Monday</td>\n",
       "      <td>2018-10-01</td>\n",
       "      <td>0</td>\n",
       "    </tr>\n",
       "    <tr>\n",
       "      <td>3</td>\n",
       "      <td>2018-10-01</td>\n",
       "      <td>ee47d746-6d2f-4d3c-9622-c31412542920</td>\n",
       "      <td>68477</td>\n",
       "      <td>хризолидокарпус лутесценс d-9 см</td>\n",
       "      <td>1</td>\n",
       "      <td>179.0</td>\n",
       "      <td>179.0</td>\n",
       "      <td>2018-10-01</td>\n",
       "      <td>10</td>\n",
       "      <td>2018</td>\n",
       "      <td>0</td>\n",
       "      <td>Monday</td>\n",
       "      <td>2018-10-01</td>\n",
       "      <td>0</td>\n",
       "    </tr>\n",
       "    <tr>\n",
       "      <td>4</td>\n",
       "      <td>2018-10-01</td>\n",
       "      <td>ee47d746-6d2f-4d3c-9622-c31412542920</td>\n",
       "      <td>68477</td>\n",
       "      <td>циперус зумула d-12 см h-25 см</td>\n",
       "      <td>1</td>\n",
       "      <td>112.0</td>\n",
       "      <td>112.0</td>\n",
       "      <td>2018-10-01</td>\n",
       "      <td>10</td>\n",
       "      <td>2018</td>\n",
       "      <td>0</td>\n",
       "      <td>Monday</td>\n",
       "      <td>2018-10-01</td>\n",
       "      <td>0</td>\n",
       "    </tr>\n",
       "  </tbody>\n",
       "</table>\n",
       "</div>"
      ],
      "text/plain": [
       "        date                           customer_id  order_id  \\\n",
       "0 2018-10-01  ee47d746-6d2f-4d3c-9622-c31412542920     68477   \n",
       "1 2018-10-01  ee47d746-6d2f-4d3c-9622-c31412542920     68477   \n",
       "2 2018-10-01  ee47d746-6d2f-4d3c-9622-c31412542920     68477   \n",
       "3 2018-10-01  ee47d746-6d2f-4d3c-9622-c31412542920     68477   \n",
       "4 2018-10-01  ee47d746-6d2f-4d3c-9622-c31412542920     68477   \n",
       "\n",
       "                                              product  quantity  price  \\\n",
       "0     комнатное растение в горшке алое вера, d12, h30         1  142.0   \n",
       "1  комнатное растение в горшке кофе арабика, d12, h25         1  194.0   \n",
       "2                         радермахера d-12 см h-20 см         1  112.0   \n",
       "3                    хризолидокарпус лутесценс d-9 см         1  179.0   \n",
       "4                      циперус зумула d-12 см h-25 см         1  112.0   \n",
       "\n",
       "   revenue   date_day  month  year  hour day_of_week first_activity_month  \\\n",
       "0    142.0 2018-10-01     10  2018     0      Monday           2018-10-01   \n",
       "1    194.0 2018-10-01     10  2018     0      Monday           2018-10-01   \n",
       "2    112.0 2018-10-01     10  2018     0      Monday           2018-10-01   \n",
       "3    179.0 2018-10-01     10  2018     0      Monday           2018-10-01   \n",
       "4    112.0 2018-10-01     10  2018     0      Monday           2018-10-01   \n",
       "\n",
       "   cohort_lifetime  \n",
       "0                0  \n",
       "1                0  \n",
       "2                0  \n",
       "3                0  \n",
       "4                0  "
      ]
     },
     "execution_count": 79,
     "metadata": {},
     "output_type": "execute_result"
    }
   ],
   "source": [
    "#Выведем на экран первые пять строк таблицы\n",
    "df.head()"
   ]
  },
  {
   "cell_type": "code",
   "execution_count": 80,
   "metadata": {},
   "outputs": [],
   "source": [
    "#Сгруппируем данные по пользователю, дате и заказу\n",
    "rfm = df.groupby(['customer_id', 'order_id'])\\\n",
    "        .agg(\n",
    "                {'first_activity_month':'min', \n",
    "                 'date':'last', \n",
    "                 'revenue':'sum'}\n",
    "            )\\\n",
    "        .reset_index()\\\n",
    "        .rename(\n",
    "            {'revenue':'monetary', \n",
    "             'date':'last_transaction',\n",
    "             'order_id':'frequency'}, \n",
    "        axis=1)"
   ]
  },
  {
   "cell_type": "code",
   "execution_count": 81,
   "metadata": {},
   "outputs": [
    {
     "data": {
      "text/html": [
       "<div>\n",
       "<style scoped>\n",
       "    .dataframe tbody tr th:only-of-type {\n",
       "        vertical-align: middle;\n",
       "    }\n",
       "\n",
       "    .dataframe tbody tr th {\n",
       "        vertical-align: top;\n",
       "    }\n",
       "\n",
       "    .dataframe thead th {\n",
       "        text-align: right;\n",
       "    }\n",
       "</style>\n",
       "<table border=\"1\" class=\"dataframe\">\n",
       "  <thead>\n",
       "    <tr style=\"text-align: right;\">\n",
       "      <th></th>\n",
       "      <th>customer_id</th>\n",
       "      <th>frequency</th>\n",
       "      <th>first_activity_month</th>\n",
       "      <th>last_transaction</th>\n",
       "      <th>monetary</th>\n",
       "    </tr>\n",
       "  </thead>\n",
       "  <tbody>\n",
       "    <tr>\n",
       "      <td>0</td>\n",
       "      <td>000d6849-084e-4d9f-ac03-37174eaf60c4</td>\n",
       "      <td>14943</td>\n",
       "      <td>2019-10-01</td>\n",
       "      <td>2019-10-16 08:00:00</td>\n",
       "      <td>555.0</td>\n",
       "    </tr>\n",
       "    <tr>\n",
       "      <td>1</td>\n",
       "      <td>001cee7f-0b29-4716-b202-0042213ab038</td>\n",
       "      <td>70290</td>\n",
       "      <td>2019-02-01</td>\n",
       "      <td>2019-02-16 11:00:00</td>\n",
       "      <td>442.0</td>\n",
       "    </tr>\n",
       "    <tr>\n",
       "      <td>2</td>\n",
       "      <td>00299f34-5385-4d13-9aea-c80b81658e1b</td>\n",
       "      <td>72965</td>\n",
       "      <td>2019-10-01</td>\n",
       "      <td>2019-10-14 23:00:00</td>\n",
       "      <td>914.0</td>\n",
       "    </tr>\n",
       "    <tr>\n",
       "      <td>3</td>\n",
       "      <td>002d4d3a-4a59-406b-86ec-c3314357e498</td>\n",
       "      <td>69990</td>\n",
       "      <td>2019-01-01</td>\n",
       "      <td>2019-01-27 17:00:00</td>\n",
       "      <td>1649.0</td>\n",
       "    </tr>\n",
       "    <tr>\n",
       "      <td>4</td>\n",
       "      <td>003bbd39-0000-41ff-b7f9-2ddaec152037</td>\n",
       "      <td>72796</td>\n",
       "      <td>2019-09-01</td>\n",
       "      <td>2019-09-29 17:00:00</td>\n",
       "      <td>2324.0</td>\n",
       "    </tr>\n",
       "  </tbody>\n",
       "</table>\n",
       "</div>"
      ],
      "text/plain": [
       "                            customer_id  frequency first_activity_month  \\\n",
       "0  000d6849-084e-4d9f-ac03-37174eaf60c4      14943           2019-10-01   \n",
       "1  001cee7f-0b29-4716-b202-0042213ab038      70290           2019-02-01   \n",
       "2  00299f34-5385-4d13-9aea-c80b81658e1b      72965           2019-10-01   \n",
       "3  002d4d3a-4a59-406b-86ec-c3314357e498      69990           2019-01-01   \n",
       "4  003bbd39-0000-41ff-b7f9-2ddaec152037      72796           2019-09-01   \n",
       "\n",
       "     last_transaction  monetary  \n",
       "0 2019-10-16 08:00:00     555.0  \n",
       "1 2019-02-16 11:00:00     442.0  \n",
       "2 2019-10-14 23:00:00     914.0  \n",
       "3 2019-01-27 17:00:00    1649.0  \n",
       "4 2019-09-29 17:00:00    2324.0  "
      ]
     },
     "execution_count": 81,
     "metadata": {},
     "output_type": "execute_result"
    }
   ],
   "source": [
    "#Выведем первые пять строк таблицы\n",
    "rfm.head()"
   ]
  },
  {
   "cell_type": "code",
   "execution_count": 82,
   "metadata": {},
   "outputs": [],
   "source": [
    "#Сгруппируем данные по пользователю\n",
    "rfm = rfm.groupby('customer_id')\\\n",
    "            .agg(\n",
    "                {'frequency':'nunique', \n",
    "                 'monetary':'sum', \n",
    "                 'last_transaction':'last'})\\\n",
    "            .reset_index()"
   ]
  },
  {
   "cell_type": "code",
   "execution_count": 83,
   "metadata": {},
   "outputs": [
    {
     "data": {
      "text/html": [
       "<div>\n",
       "<style scoped>\n",
       "    .dataframe tbody tr th:only-of-type {\n",
       "        vertical-align: middle;\n",
       "    }\n",
       "\n",
       "    .dataframe tbody tr th {\n",
       "        vertical-align: top;\n",
       "    }\n",
       "\n",
       "    .dataframe thead th {\n",
       "        text-align: right;\n",
       "    }\n",
       "</style>\n",
       "<table border=\"1\" class=\"dataframe\">\n",
       "  <thead>\n",
       "    <tr style=\"text-align: right;\">\n",
       "      <th></th>\n",
       "      <th>customer_id</th>\n",
       "      <th>frequency</th>\n",
       "      <th>monetary</th>\n",
       "      <th>last_transaction</th>\n",
       "    </tr>\n",
       "  </thead>\n",
       "  <tbody>\n",
       "    <tr>\n",
       "      <td>0</td>\n",
       "      <td>000d6849-084e-4d9f-ac03-37174eaf60c4</td>\n",
       "      <td>1</td>\n",
       "      <td>555.0</td>\n",
       "      <td>2019-10-16 08:00:00</td>\n",
       "    </tr>\n",
       "    <tr>\n",
       "      <td>1</td>\n",
       "      <td>001cee7f-0b29-4716-b202-0042213ab038</td>\n",
       "      <td>1</td>\n",
       "      <td>442.0</td>\n",
       "      <td>2019-02-16 11:00:00</td>\n",
       "    </tr>\n",
       "    <tr>\n",
       "      <td>2</td>\n",
       "      <td>00299f34-5385-4d13-9aea-c80b81658e1b</td>\n",
       "      <td>1</td>\n",
       "      <td>914.0</td>\n",
       "      <td>2019-10-14 23:00:00</td>\n",
       "    </tr>\n",
       "    <tr>\n",
       "      <td>3</td>\n",
       "      <td>002d4d3a-4a59-406b-86ec-c3314357e498</td>\n",
       "      <td>1</td>\n",
       "      <td>1649.0</td>\n",
       "      <td>2019-01-27 17:00:00</td>\n",
       "    </tr>\n",
       "    <tr>\n",
       "      <td>4</td>\n",
       "      <td>003bbd39-0000-41ff-b7f9-2ddaec152037</td>\n",
       "      <td>1</td>\n",
       "      <td>2324.0</td>\n",
       "      <td>2019-09-29 17:00:00</td>\n",
       "    </tr>\n",
       "  </tbody>\n",
       "</table>\n",
       "</div>"
      ],
      "text/plain": [
       "                            customer_id  frequency  monetary  \\\n",
       "0  000d6849-084e-4d9f-ac03-37174eaf60c4          1     555.0   \n",
       "1  001cee7f-0b29-4716-b202-0042213ab038          1     442.0   \n",
       "2  00299f34-5385-4d13-9aea-c80b81658e1b          1     914.0   \n",
       "3  002d4d3a-4a59-406b-86ec-c3314357e498          1    1649.0   \n",
       "4  003bbd39-0000-41ff-b7f9-2ddaec152037          1    2324.0   \n",
       "\n",
       "     last_transaction  \n",
       "0 2019-10-16 08:00:00  \n",
       "1 2019-02-16 11:00:00  \n",
       "2 2019-10-14 23:00:00  \n",
       "3 2019-01-27 17:00:00  \n",
       "4 2019-09-29 17:00:00  "
      ]
     },
     "execution_count": 83,
     "metadata": {},
     "output_type": "execute_result"
    }
   ],
   "source": [
    "#Выведем первые пять строк таблицы\n",
    "rfm.head()"
   ]
  },
  {
   "cell_type": "code",
   "execution_count": 84,
   "metadata": {},
   "outputs": [],
   "source": [
    "#Сохраним в столбце максимальную дату датасета\n",
    "rfm['end_date'] = df['date'].max()"
   ]
  },
  {
   "cell_type": "code",
   "execution_count": 85,
   "metadata": {},
   "outputs": [],
   "source": [
    "#Найдем разницу между максимальной датой и последней транзакцией пользователя\n",
    "rfm['recency'] = (rfm.end_date - rfm.last_transaction) / np.timedelta64(1, 'D')"
   ]
  },
  {
   "cell_type": "code",
   "execution_count": 86,
   "metadata": {},
   "outputs": [
    {
     "data": {
      "text/html": [
       "<div>\n",
       "<style scoped>\n",
       "    .dataframe tbody tr th:only-of-type {\n",
       "        vertical-align: middle;\n",
       "    }\n",
       "\n",
       "    .dataframe tbody tr th {\n",
       "        vertical-align: top;\n",
       "    }\n",
       "\n",
       "    .dataframe thead th {\n",
       "        text-align: right;\n",
       "    }\n",
       "</style>\n",
       "<table border=\"1\" class=\"dataframe\">\n",
       "  <thead>\n",
       "    <tr style=\"text-align: right;\">\n",
       "      <th></th>\n",
       "      <th>customer_id</th>\n",
       "      <th>frequency</th>\n",
       "      <th>monetary</th>\n",
       "      <th>last_transaction</th>\n",
       "      <th>end_date</th>\n",
       "      <th>recency</th>\n",
       "    </tr>\n",
       "  </thead>\n",
       "  <tbody>\n",
       "    <tr>\n",
       "      <td>0</td>\n",
       "      <td>000d6849-084e-4d9f-ac03-37174eaf60c4</td>\n",
       "      <td>1</td>\n",
       "      <td>555.0</td>\n",
       "      <td>2019-10-16 08:00:00</td>\n",
       "      <td>2019-10-31 16:00:00</td>\n",
       "      <td>15.333333</td>\n",
       "    </tr>\n",
       "    <tr>\n",
       "      <td>1</td>\n",
       "      <td>001cee7f-0b29-4716-b202-0042213ab038</td>\n",
       "      <td>1</td>\n",
       "      <td>442.0</td>\n",
       "      <td>2019-02-16 11:00:00</td>\n",
       "      <td>2019-10-31 16:00:00</td>\n",
       "      <td>257.208333</td>\n",
       "    </tr>\n",
       "    <tr>\n",
       "      <td>2</td>\n",
       "      <td>00299f34-5385-4d13-9aea-c80b81658e1b</td>\n",
       "      <td>1</td>\n",
       "      <td>914.0</td>\n",
       "      <td>2019-10-14 23:00:00</td>\n",
       "      <td>2019-10-31 16:00:00</td>\n",
       "      <td>16.708333</td>\n",
       "    </tr>\n",
       "    <tr>\n",
       "      <td>3</td>\n",
       "      <td>002d4d3a-4a59-406b-86ec-c3314357e498</td>\n",
       "      <td>1</td>\n",
       "      <td>1649.0</td>\n",
       "      <td>2019-01-27 17:00:00</td>\n",
       "      <td>2019-10-31 16:00:00</td>\n",
       "      <td>276.958333</td>\n",
       "    </tr>\n",
       "    <tr>\n",
       "      <td>4</td>\n",
       "      <td>003bbd39-0000-41ff-b7f9-2ddaec152037</td>\n",
       "      <td>1</td>\n",
       "      <td>2324.0</td>\n",
       "      <td>2019-09-29 17:00:00</td>\n",
       "      <td>2019-10-31 16:00:00</td>\n",
       "      <td>31.958333</td>\n",
       "    </tr>\n",
       "  </tbody>\n",
       "</table>\n",
       "</div>"
      ],
      "text/plain": [
       "                            customer_id  frequency  monetary  \\\n",
       "0  000d6849-084e-4d9f-ac03-37174eaf60c4          1     555.0   \n",
       "1  001cee7f-0b29-4716-b202-0042213ab038          1     442.0   \n",
       "2  00299f34-5385-4d13-9aea-c80b81658e1b          1     914.0   \n",
       "3  002d4d3a-4a59-406b-86ec-c3314357e498          1    1649.0   \n",
       "4  003bbd39-0000-41ff-b7f9-2ddaec152037          1    2324.0   \n",
       "\n",
       "     last_transaction            end_date     recency  \n",
       "0 2019-10-16 08:00:00 2019-10-31 16:00:00   15.333333  \n",
       "1 2019-02-16 11:00:00 2019-10-31 16:00:00  257.208333  \n",
       "2 2019-10-14 23:00:00 2019-10-31 16:00:00   16.708333  \n",
       "3 2019-01-27 17:00:00 2019-10-31 16:00:00  276.958333  \n",
       "4 2019-09-29 17:00:00 2019-10-31 16:00:00   31.958333  "
      ]
     },
     "execution_count": 86,
     "metadata": {},
     "output_type": "execute_result"
    }
   ],
   "source": [
    "#Выведем первые пять строк таблицы\n",
    "rfm.head()"
   ]
  },
  {
   "cell_type": "code",
   "execution_count": 87,
   "metadata": {},
   "outputs": [],
   "source": [
    "#С помощью qcut разделим пользователей на 4 сегмента (обратная связь)\n",
    "rfm['r'] = 5 - (pd.qcut(rfm['recency'],4,labels=False) + 1)"
   ]
  },
  {
   "cell_type": "code",
   "execution_count": 88,
   "metadata": {},
   "outputs": [
    {
     "data": {
      "text/html": [
       "<div>\n",
       "<style scoped>\n",
       "    .dataframe tbody tr th:only-of-type {\n",
       "        vertical-align: middle;\n",
       "    }\n",
       "\n",
       "    .dataframe tbody tr th {\n",
       "        vertical-align: top;\n",
       "    }\n",
       "\n",
       "    .dataframe thead th {\n",
       "        text-align: right;\n",
       "    }\n",
       "</style>\n",
       "<table border=\"1\" class=\"dataframe\">\n",
       "  <thead>\n",
       "    <tr style=\"text-align: right;\">\n",
       "      <th></th>\n",
       "      <th>mean</th>\n",
       "      <th>count</th>\n",
       "    </tr>\n",
       "    <tr>\n",
       "      <th>r</th>\n",
       "      <th></th>\n",
       "      <th></th>\n",
       "    </tr>\n",
       "  </thead>\n",
       "  <tbody>\n",
       "    <tr>\n",
       "      <td>1</td>\n",
       "      <td>344.697526</td>\n",
       "      <td>613</td>\n",
       "    </tr>\n",
       "    <tr>\n",
       "      <td>2</td>\n",
       "      <td>250.864856</td>\n",
       "      <td>612</td>\n",
       "    </tr>\n",
       "    <tr>\n",
       "      <td>3</td>\n",
       "      <td>163.812058</td>\n",
       "      <td>613</td>\n",
       "    </tr>\n",
       "    <tr>\n",
       "      <td>4</td>\n",
       "      <td>54.186582</td>\n",
       "      <td>613</td>\n",
       "    </tr>\n",
       "  </tbody>\n",
       "</table>\n",
       "</div>"
      ],
      "text/plain": [
       "         mean  count\n",
       "r                   \n",
       "1  344.697526    613\n",
       "2  250.864856    612\n",
       "3  163.812058    613\n",
       "4   54.186582    613"
      ]
     },
     "execution_count": 88,
     "metadata": {},
     "output_type": "execute_result"
    }
   ],
   "source": [
    "#Сгруппируем данные по столбцу r\n",
    "rfm.groupby('r')['recency'].agg(['mean','count'])"
   ]
  },
  {
   "cell_type": "code",
   "execution_count": 89,
   "metadata": {},
   "outputs": [],
   "source": [
    "#С помощью qcut разделим пользователей на 4 сегмента\n",
    "rfm['f'] = pd.qcut(rfm['frequency'],4,labels=False,duplicates='drop')+1"
   ]
  },
  {
   "cell_type": "code",
   "execution_count": 90,
   "metadata": {},
   "outputs": [
    {
     "data": {
      "text/html": [
       "<div>\n",
       "<style scoped>\n",
       "    .dataframe tbody tr th:only-of-type {\n",
       "        vertical-align: middle;\n",
       "    }\n",
       "\n",
       "    .dataframe tbody tr th {\n",
       "        vertical-align: top;\n",
       "    }\n",
       "\n",
       "    .dataframe thead th {\n",
       "        text-align: right;\n",
       "    }\n",
       "</style>\n",
       "<table border=\"1\" class=\"dataframe\">\n",
       "  <thead>\n",
       "    <tr style=\"text-align: right;\">\n",
       "      <th></th>\n",
       "      <th>mean</th>\n",
       "      <th>count</th>\n",
       "    </tr>\n",
       "    <tr>\n",
       "      <th>f</th>\n",
       "      <th></th>\n",
       "      <th></th>\n",
       "    </tr>\n",
       "  </thead>\n",
       "  <tbody>\n",
       "    <tr>\n",
       "      <td>1</td>\n",
       "      <td>1.149327</td>\n",
       "      <td>2451</td>\n",
       "    </tr>\n",
       "  </tbody>\n",
       "</table>\n",
       "</div>"
      ],
      "text/plain": [
       "       mean  count\n",
       "f                 \n",
       "1  1.149327   2451"
      ]
     },
     "execution_count": 90,
     "metadata": {},
     "output_type": "execute_result"
    }
   ],
   "source": [
    "#Сгруппируем данные по столбцу f\n",
    "rfm.groupby('f')['frequency'].agg(['mean','count'])"
   ]
  },
  {
   "cell_type": "code",
   "execution_count": 91,
   "metadata": {},
   "outputs": [
    {
     "data": {
      "text/plain": [
       "f\n",
       "1    {1, 2, 3, 4, 5, 35, 7, 17, 126}\n",
       "Name: frequency, dtype: object"
      ]
     },
     "execution_count": 91,
     "metadata": {},
     "output_type": "execute_result"
    }
   ],
   "source": [
    "#Сгруппируем данные по столбцу и выведем на экран значения в сегменте\n",
    "rfm.groupby('f')['frequency'].agg(set)"
   ]
  },
  {
   "cell_type": "code",
   "execution_count": 92,
   "metadata": {},
   "outputs": [
    {
     "data": {
      "text/plain": [
       "1      2291\n",
       "2       132\n",
       "3        20\n",
       "4         3\n",
       "35        1\n",
       "17        1\n",
       "7         1\n",
       "5         1\n",
       "126       1\n",
       "Name: frequency, dtype: int64"
      ]
     },
     "execution_count": 92,
     "metadata": {},
     "output_type": "execute_result"
    }
   ],
   "source": [
    "#Выведем на экран количество возможных значений\n",
    "rfm['frequency'].value_counts()"
   ]
  },
  {
   "cell_type": "markdown",
   "metadata": {},
   "source": [
    "Нам не удалось разделить пользователей с помощью функции `qcut`, потому как, как мы видели ранее, наши пользователи редко совершают более одного заказа. Тем не менее, присутствут пользователи, которые совершают регулярно заказы, хоть и не так часто. Поэтому, напишем функцию, которые распределит очки в зависимости от заданной нами шкалы:\n",
    "\n",
    "1 балл - если число покупок 1,\n",
    "\n",
    "2 балла - если число покупок 2,\n",
    "\n",
    "3 балла - если число покупок от 3 до 5,\n",
    "\n",
    "4 балла - свыше 6 покупок."
   ]
  },
  {
   "cell_type": "code",
   "execution_count": 93,
   "metadata": {},
   "outputs": [],
   "source": [
    "#Функция проверяет количество покупок по столбцу и присваивает балл\n",
    "def get_score(value):\n",
    "    if value in [1]:\n",
    "        return 1\n",
    "    if value in [2,3,4,5]:\n",
    "        return 2\n",
    "    if value in [17, 35]:\n",
    "        return 3\n",
    "    return 4 "
   ]
  },
  {
   "cell_type": "code",
   "execution_count": 94,
   "metadata": {},
   "outputs": [],
   "source": [
    "#Применяем функцию и сохраняем значения в столбец\n",
    "rfm['f'] = rfm['frequency'].apply(get_score)"
   ]
  },
  {
   "cell_type": "code",
   "execution_count": 95,
   "metadata": {},
   "outputs": [
    {
     "data": {
      "text/html": [
       "<div>\n",
       "<style scoped>\n",
       "    .dataframe tbody tr th:only-of-type {\n",
       "        vertical-align: middle;\n",
       "    }\n",
       "\n",
       "    .dataframe tbody tr th {\n",
       "        vertical-align: top;\n",
       "    }\n",
       "\n",
       "    .dataframe thead th {\n",
       "        text-align: right;\n",
       "    }\n",
       "</style>\n",
       "<table border=\"1\" class=\"dataframe\">\n",
       "  <thead>\n",
       "    <tr style=\"text-align: right;\">\n",
       "      <th></th>\n",
       "      <th>mean</th>\n",
       "      <th>count</th>\n",
       "    </tr>\n",
       "    <tr>\n",
       "      <th>f</th>\n",
       "      <th></th>\n",
       "      <th></th>\n",
       "    </tr>\n",
       "  </thead>\n",
       "  <tbody>\n",
       "    <tr>\n",
       "      <td>1</td>\n",
       "      <td>1.000000</td>\n",
       "      <td>2291</td>\n",
       "    </tr>\n",
       "    <tr>\n",
       "      <td>2</td>\n",
       "      <td>2.185897</td>\n",
       "      <td>156</td>\n",
       "    </tr>\n",
       "    <tr>\n",
       "      <td>3</td>\n",
       "      <td>26.000000</td>\n",
       "      <td>2</td>\n",
       "    </tr>\n",
       "    <tr>\n",
       "      <td>4</td>\n",
       "      <td>66.500000</td>\n",
       "      <td>2</td>\n",
       "    </tr>\n",
       "  </tbody>\n",
       "</table>\n",
       "</div>"
      ],
      "text/plain": [
       "        mean  count\n",
       "f                  \n",
       "1   1.000000   2291\n",
       "2   2.185897    156\n",
       "3  26.000000      2\n",
       "4  66.500000      2"
      ]
     },
     "execution_count": 95,
     "metadata": {},
     "output_type": "execute_result"
    }
   ],
   "source": [
    "#Сгруппируем данные по столбцу f\n",
    "rfm.groupby('f')['frequency'].agg(['mean','count'])"
   ]
  },
  {
   "cell_type": "code",
   "execution_count": 96,
   "metadata": {},
   "outputs": [],
   "source": [
    "#С помощью qcut разделим пользователей на 4 сегмента\n",
    "rfm['m'] = pd.qcut(rfm['monetary'],4,labels=False) + 1"
   ]
  },
  {
   "cell_type": "code",
   "execution_count": 97,
   "metadata": {},
   "outputs": [
    {
     "data": {
      "text/html": [
       "<div>\n",
       "<style scoped>\n",
       "    .dataframe tbody tr th:only-of-type {\n",
       "        vertical-align: middle;\n",
       "    }\n",
       "\n",
       "    .dataframe tbody tr th {\n",
       "        vertical-align: top;\n",
       "    }\n",
       "\n",
       "    .dataframe thead th {\n",
       "        text-align: right;\n",
       "    }\n",
       "</style>\n",
       "<table border=\"1\" class=\"dataframe\">\n",
       "  <thead>\n",
       "    <tr style=\"text-align: right;\">\n",
       "      <th></th>\n",
       "      <th>mean</th>\n",
       "      <th>count</th>\n",
       "    </tr>\n",
       "    <tr>\n",
       "      <th>m</th>\n",
       "      <th></th>\n",
       "      <th></th>\n",
       "    </tr>\n",
       "  </thead>\n",
       "  <tbody>\n",
       "    <tr>\n",
       "      <td>1</td>\n",
       "      <td>163.962480</td>\n",
       "      <td>613</td>\n",
       "    </tr>\n",
       "    <tr>\n",
       "      <td>2</td>\n",
       "      <td>532.158238</td>\n",
       "      <td>613</td>\n",
       "    </tr>\n",
       "    <tr>\n",
       "      <td>3</td>\n",
       "      <td>1142.805112</td>\n",
       "      <td>626</td>\n",
       "    </tr>\n",
       "    <tr>\n",
       "      <td>4</td>\n",
       "      <td>6192.257095</td>\n",
       "      <td>599</td>\n",
       "    </tr>\n",
       "  </tbody>\n",
       "</table>\n",
       "</div>"
      ],
      "text/plain": [
       "          mean  count\n",
       "m                    \n",
       "1   163.962480    613\n",
       "2   532.158238    613\n",
       "3  1142.805112    626\n",
       "4  6192.257095    599"
      ]
     },
     "execution_count": 97,
     "metadata": {},
     "output_type": "execute_result"
    }
   ],
   "source": [
    "#Сгруппируем данные по столбцу m\n",
    "rfm.groupby('m')['monetary'].agg(['mean','count'])"
   ]
  },
  {
   "cell_type": "markdown",
   "metadata": {},
   "source": [
    "Мы распределили нашим пользователям баллы в зависимости от их активности, частоте покупок, суммам заказа. Теперь можем приступить к их сегментации.\n",
    "Разделим наших клиентов на несколько сегментов:"
   ]
  },
  {
   "cell_type": "code",
   "execution_count": 98,
   "metadata": {},
   "outputs": [],
   "source": [
    "#Считаем количество набранных баллов\n",
    "rfm['rfm_score'] = (rfm['r'] + rfm['f'] + rfm['m'])"
   ]
  },
  {
   "cell_type": "code",
   "execution_count": 99,
   "metadata": {},
   "outputs": [],
   "source": [
    "#Функция присваивает название сегмента в зависимости от числа баллов\n",
    "def rfm_level(df):\n",
    "    if df['rfm_score'] >= 10:\n",
    "        return 'Loyal'\n",
    "    elif ((df['rfm_score'] >= 7) and (df['rfm_score'] < 10)):\n",
    "        return 'Potential'\n",
    "    elif ((df['rfm_score'] >= 6) and (df['rfm_score'] < 7)):\n",
    "        return 'Promising'\n",
    "    else:\n",
    "        return 'Needs Attention'"
   ]
  },
  {
   "cell_type": "code",
   "execution_count": 100,
   "metadata": {},
   "outputs": [],
   "source": [
    "#Присваиваем сегмент пользователю с помощью функции\n",
    "rfm['segment'] = rfm.apply(rfm_level,axis=1)"
   ]
  },
  {
   "cell_type": "code",
   "execution_count": 101,
   "metadata": {},
   "outputs": [
    {
     "data": {
      "text/html": [
       "<div>\n",
       "<style scoped>\n",
       "    .dataframe tbody tr th:only-of-type {\n",
       "        vertical-align: middle;\n",
       "    }\n",
       "\n",
       "    .dataframe tbody tr th {\n",
       "        vertical-align: top;\n",
       "    }\n",
       "\n",
       "    .dataframe thead th {\n",
       "        text-align: right;\n",
       "    }\n",
       "</style>\n",
       "<table border=\"1\" class=\"dataframe\">\n",
       "  <thead>\n",
       "    <tr style=\"text-align: right;\">\n",
       "      <th></th>\n",
       "      <th>customer_id</th>\n",
       "      <th>frequency</th>\n",
       "      <th>monetary</th>\n",
       "      <th>last_transaction</th>\n",
       "      <th>end_date</th>\n",
       "      <th>recency</th>\n",
       "      <th>r</th>\n",
       "      <th>f</th>\n",
       "      <th>m</th>\n",
       "      <th>rfm_score</th>\n",
       "      <th>segment</th>\n",
       "    </tr>\n",
       "  </thead>\n",
       "  <tbody>\n",
       "    <tr>\n",
       "      <td>1101</td>\n",
       "      <td>73d1cd35-5e5f-4629-8cf2-3fda829d4e58</td>\n",
       "      <td>17</td>\n",
       "      <td>21713.0</td>\n",
       "      <td>2019-10-31 14:00:00</td>\n",
       "      <td>2019-10-31 16:00:00</td>\n",
       "      <td>0.083333</td>\n",
       "      <td>4</td>\n",
       "      <td>3</td>\n",
       "      <td>4</td>\n",
       "      <td>11</td>\n",
       "      <td>Loyal</td>\n",
       "    </tr>\n",
       "    <tr>\n",
       "      <td>1748</td>\n",
       "      <td>b7b865ab-0735-407f-8d0c-31f74d2806cc</td>\n",
       "      <td>7</td>\n",
       "      <td>3779.0</td>\n",
       "      <td>2019-04-23 17:00:00</td>\n",
       "      <td>2019-10-31 16:00:00</td>\n",
       "      <td>190.958333</td>\n",
       "      <td>3</td>\n",
       "      <td>4</td>\n",
       "      <td>4</td>\n",
       "      <td>11</td>\n",
       "      <td>Loyal</td>\n",
       "    </tr>\n",
       "    <tr>\n",
       "      <td>1168</td>\n",
       "      <td>7b0b570c-16c7-4aed-b302-13fe1830d1e9</td>\n",
       "      <td>2</td>\n",
       "      <td>3223.0</td>\n",
       "      <td>2019-10-06 12:00:00</td>\n",
       "      <td>2019-10-31 16:00:00</td>\n",
       "      <td>25.166667</td>\n",
       "      <td>4</td>\n",
       "      <td>2</td>\n",
       "      <td>4</td>\n",
       "      <td>10</td>\n",
       "      <td>Loyal</td>\n",
       "    </tr>\n",
       "    <tr>\n",
       "      <td>1916</td>\n",
       "      <td>c971fb21-d54c-4134-938f-16b62ee86d3b</td>\n",
       "      <td>126</td>\n",
       "      <td>166988.0</td>\n",
       "      <td>2019-03-06 12:00:00</td>\n",
       "      <td>2019-10-31 16:00:00</td>\n",
       "      <td>239.166667</td>\n",
       "      <td>2</td>\n",
       "      <td>4</td>\n",
       "      <td>4</td>\n",
       "      <td>10</td>\n",
       "      <td>Loyal</td>\n",
       "    </tr>\n",
       "    <tr>\n",
       "      <td>181</td>\n",
       "      <td>126dac4d-6486-49ed-a1be-9fd55a38a9de</td>\n",
       "      <td>2</td>\n",
       "      <td>9148.0</td>\n",
       "      <td>2019-08-28 02:00:00</td>\n",
       "      <td>2019-10-31 16:00:00</td>\n",
       "      <td>64.583333</td>\n",
       "      <td>4</td>\n",
       "      <td>2</td>\n",
       "      <td>4</td>\n",
       "      <td>10</td>\n",
       "      <td>Loyal</td>\n",
       "    </tr>\n",
       "    <tr>\n",
       "      <td>555</td>\n",
       "      <td>399da134-5db6-4861-89fc-6595e7583e98</td>\n",
       "      <td>2</td>\n",
       "      <td>2736.0</td>\n",
       "      <td>2019-08-28 12:00:00</td>\n",
       "      <td>2019-10-31 16:00:00</td>\n",
       "      <td>64.166667</td>\n",
       "      <td>4</td>\n",
       "      <td>2</td>\n",
       "      <td>4</td>\n",
       "      <td>10</td>\n",
       "      <td>Loyal</td>\n",
       "    </tr>\n",
       "    <tr>\n",
       "      <td>2209</td>\n",
       "      <td>e8204583-4d55-4724-ad3f-049c7db43bdd</td>\n",
       "      <td>3</td>\n",
       "      <td>3102.0</td>\n",
       "      <td>2019-09-06 15:00:00</td>\n",
       "      <td>2019-10-31 16:00:00</td>\n",
       "      <td>55.041667</td>\n",
       "      <td>4</td>\n",
       "      <td>2</td>\n",
       "      <td>4</td>\n",
       "      <td>10</td>\n",
       "      <td>Loyal</td>\n",
       "    </tr>\n",
       "    <tr>\n",
       "      <td>2402</td>\n",
       "      <td>facadcf2-2c13-4d8f-baa3-567821546534</td>\n",
       "      <td>2</td>\n",
       "      <td>7049.0</td>\n",
       "      <td>2019-07-19 08:00:00</td>\n",
       "      <td>2019-10-31 16:00:00</td>\n",
       "      <td>104.333333</td>\n",
       "      <td>4</td>\n",
       "      <td>2</td>\n",
       "      <td>4</td>\n",
       "      <td>10</td>\n",
       "      <td>Loyal</td>\n",
       "    </tr>\n",
       "    <tr>\n",
       "      <td>812</td>\n",
       "      <td>55f5aaea-0a3f-46c0-8677-e0d5be2d19ee</td>\n",
       "      <td>2</td>\n",
       "      <td>1858.0</td>\n",
       "      <td>2019-10-30 10:00:00</td>\n",
       "      <td>2019-10-31 16:00:00</td>\n",
       "      <td>1.250000</td>\n",
       "      <td>4</td>\n",
       "      <td>2</td>\n",
       "      <td>4</td>\n",
       "      <td>10</td>\n",
       "      <td>Loyal</td>\n",
       "    </tr>\n",
       "    <tr>\n",
       "      <td>1521</td>\n",
       "      <td>a16e499f-f295-4b6c-b846-aeed6477eb70</td>\n",
       "      <td>2</td>\n",
       "      <td>2961.0</td>\n",
       "      <td>2019-10-02 09:00:00</td>\n",
       "      <td>2019-10-31 16:00:00</td>\n",
       "      <td>29.291667</td>\n",
       "      <td>4</td>\n",
       "      <td>2</td>\n",
       "      <td>4</td>\n",
       "      <td>10</td>\n",
       "      <td>Loyal</td>\n",
       "    </tr>\n",
       "  </tbody>\n",
       "</table>\n",
       "</div>"
      ],
      "text/plain": [
       "                               customer_id  frequency  monetary  \\\n",
       "1101  73d1cd35-5e5f-4629-8cf2-3fda829d4e58         17   21713.0   \n",
       "1748  b7b865ab-0735-407f-8d0c-31f74d2806cc          7    3779.0   \n",
       "1168  7b0b570c-16c7-4aed-b302-13fe1830d1e9          2    3223.0   \n",
       "1916  c971fb21-d54c-4134-938f-16b62ee86d3b        126  166988.0   \n",
       "181   126dac4d-6486-49ed-a1be-9fd55a38a9de          2    9148.0   \n",
       "555   399da134-5db6-4861-89fc-6595e7583e98          2    2736.0   \n",
       "2209  e8204583-4d55-4724-ad3f-049c7db43bdd          3    3102.0   \n",
       "2402  facadcf2-2c13-4d8f-baa3-567821546534          2    7049.0   \n",
       "812   55f5aaea-0a3f-46c0-8677-e0d5be2d19ee          2    1858.0   \n",
       "1521  a16e499f-f295-4b6c-b846-aeed6477eb70          2    2961.0   \n",
       "\n",
       "        last_transaction            end_date     recency  r  f  m  rfm_score  \\\n",
       "1101 2019-10-31 14:00:00 2019-10-31 16:00:00    0.083333  4  3  4         11   \n",
       "1748 2019-04-23 17:00:00 2019-10-31 16:00:00  190.958333  3  4  4         11   \n",
       "1168 2019-10-06 12:00:00 2019-10-31 16:00:00   25.166667  4  2  4         10   \n",
       "1916 2019-03-06 12:00:00 2019-10-31 16:00:00  239.166667  2  4  4         10   \n",
       "181  2019-08-28 02:00:00 2019-10-31 16:00:00   64.583333  4  2  4         10   \n",
       "555  2019-08-28 12:00:00 2019-10-31 16:00:00   64.166667  4  2  4         10   \n",
       "2209 2019-09-06 15:00:00 2019-10-31 16:00:00   55.041667  4  2  4         10   \n",
       "2402 2019-07-19 08:00:00 2019-10-31 16:00:00  104.333333  4  2  4         10   \n",
       "812  2019-10-30 10:00:00 2019-10-31 16:00:00    1.250000  4  2  4         10   \n",
       "1521 2019-10-02 09:00:00 2019-10-31 16:00:00   29.291667  4  2  4         10   \n",
       "\n",
       "     segment  \n",
       "1101   Loyal  \n",
       "1748   Loyal  \n",
       "1168   Loyal  \n",
       "1916   Loyal  \n",
       "181    Loyal  \n",
       "555    Loyal  \n",
       "2209   Loyal  \n",
       "2402   Loyal  \n",
       "812    Loyal  \n",
       "1521   Loyal  "
      ]
     },
     "execution_count": 101,
     "metadata": {},
     "output_type": "execute_result"
    }
   ],
   "source": [
    "#Выводим ТОП-10 клиентов\n",
    "rfm.sort_values('rfm_score',ascending=False).head(10)"
   ]
  },
  {
   "cell_type": "code",
   "execution_count": 102,
   "metadata": {},
   "outputs": [
    {
     "data": {
      "text/html": [
       "<div>\n",
       "<style scoped>\n",
       "    .dataframe tbody tr th:only-of-type {\n",
       "        vertical-align: middle;\n",
       "    }\n",
       "\n",
       "    .dataframe tbody tr th {\n",
       "        vertical-align: top;\n",
       "    }\n",
       "\n",
       "    .dataframe thead tr th {\n",
       "        text-align: left;\n",
       "    }\n",
       "\n",
       "    .dataframe thead tr:last-of-type th {\n",
       "        text-align: right;\n",
       "    }\n",
       "</style>\n",
       "<table border=\"1\" class=\"dataframe\">\n",
       "  <thead>\n",
       "    <tr>\n",
       "      <th></th>\n",
       "      <th>recency</th>\n",
       "      <th>frequency</th>\n",
       "      <th colspan=\"2\" halign=\"left\">monetary</th>\n",
       "    </tr>\n",
       "    <tr>\n",
       "      <th></th>\n",
       "      <th>mean</th>\n",
       "      <th>mean</th>\n",
       "      <th>mean</th>\n",
       "      <th>count</th>\n",
       "    </tr>\n",
       "    <tr>\n",
       "      <th>segment</th>\n",
       "      <th></th>\n",
       "      <th></th>\n",
       "      <th></th>\n",
       "      <th></th>\n",
       "    </tr>\n",
       "  </thead>\n",
       "  <tbody>\n",
       "    <tr>\n",
       "      <td>Loyal</td>\n",
       "      <td>70.357143</td>\n",
       "      <td>9.000000</td>\n",
       "      <td>12639.000000</td>\n",
       "      <td>21</td>\n",
       "    </tr>\n",
       "    <tr>\n",
       "      <td>Needs Attention</td>\n",
       "      <td>280.854143</td>\n",
       "      <td>1.017877</td>\n",
       "      <td>467.712849</td>\n",
       "      <td>895</td>\n",
       "    </tr>\n",
       "    <tr>\n",
       "      <td>Potential</td>\n",
       "      <td>128.243961</td>\n",
       "      <td>1.184270</td>\n",
       "      <td>3527.094382</td>\n",
       "      <td>890</td>\n",
       "    </tr>\n",
       "    <tr>\n",
       "      <td>Promising</td>\n",
       "      <td>203.849548</td>\n",
       "      <td>1.027907</td>\n",
       "      <td>1594.021705</td>\n",
       "      <td>645</td>\n",
       "    </tr>\n",
       "  </tbody>\n",
       "</table>\n",
       "</div>"
      ],
      "text/plain": [
       "                    recency frequency      monetary      \n",
       "                       mean      mean          mean count\n",
       "segment                                                  \n",
       "Loyal             70.357143  9.000000  12639.000000    21\n",
       "Needs Attention  280.854143  1.017877    467.712849   895\n",
       "Potential        128.243961  1.184270   3527.094382   890\n",
       "Promising        203.849548  1.027907   1594.021705   645"
      ]
     },
     "execution_count": 102,
     "metadata": {},
     "output_type": "execute_result"
    }
   ],
   "source": [
    "#Выведем на экран название сегментов и их показатели\n",
    "segments = rfm.groupby('segment')\\\n",
    "    .agg(\n",
    "    {'recency': 'mean',\n",
    "    'frequency': 'mean',\n",
    "    'monetary': ['mean', 'count']}\n",
    "        )\n",
    "segments"
   ]
  },
  {
   "cell_type": "markdown",
   "metadata": {},
   "source": [
    "Как мы видим, у нас очень мало полезных клиентов для компании. Почти вся аудитория интернет-магазина делает разовые заказы и не возвращается в магазин.\n",
    "\n",
    "**Потенциальные клиенты** - возвращаются к нам, совершают заказ на значимое количество и сумму покупки. Такому сегменту можно предложить акции на те товары, которые они уже покупали. Акцию желательно ограничить по времени, что бы мотивировать клиента совершить заказ на ранее понравившийся товар.\n",
    "\n",
    "**Возможные клиенты** - совершают заказ, почти не возвращаются. Что бы перейти в сегмент выше, данным клиентам можно предложить значимые для них бонусы и подарки, рассказывать о возможностях и предложениях нашего магазина.\n",
    "\n",
    "**Требуют внимания** - совершают первую покупку и пропадают. К таким клиентом можно предложить пройти опрос, например, за бонусы или подарки. В опросе уточнить, что им понравилось/не понравилось в нашем интернет-магазине, возможно, на каких-то этапах у них возникли трудности с совершением заказа, предпочитаемый способ оплаты, впечатления от службы доставки. По таким клиентам жедательно провести доп анализ с разбором воронки, что бы понять, как часто они вообще заходили к нам на страницу и на каком шаге отваливались."
   ]
  },
  {
   "cell_type": "markdown",
   "metadata": {},
   "source": [
    "<a class=\"anchor\" id=\"chapter4\"></a> \n",
    "## Проверка гипотез\n",
    "<a class=\"anchor\" href=\"#2\">Вернуться к оглавлению</a>"
   ]
  },
  {
   "cell_type": "markdown",
   "metadata": {},
   "source": [
    "Выше, при проведении анализа, мы увидели, что, пользователи совершают заказы в разное время суток и дни. Давайте проверим гипотезы:\n",
    "\n",
    "- Н0: Выручка в интернет-магазине не зависит от времени суток (Альтернативная гипотеза: Выручка в интернет-магазине различается по времени суток)\n",
    "\n",
    "- Н0: Выручка в выходные дни такая же как и в будние (Альтернативная гипотеза: Выручка различается в выходные дни отличается от выручки в будние дни)"
   ]
  },
  {
   "cell_type": "code",
   "execution_count": 103,
   "metadata": {},
   "outputs": [
    {
     "data": {
      "text/html": [
       "<div>\n",
       "<style scoped>\n",
       "    .dataframe tbody tr th:only-of-type {\n",
       "        vertical-align: middle;\n",
       "    }\n",
       "\n",
       "    .dataframe tbody tr th {\n",
       "        vertical-align: top;\n",
       "    }\n",
       "\n",
       "    .dataframe thead th {\n",
       "        text-align: right;\n",
       "    }\n",
       "</style>\n",
       "<table border=\"1\" class=\"dataframe\">\n",
       "  <thead>\n",
       "    <tr style=\"text-align: right;\">\n",
       "      <th></th>\n",
       "      <th>date</th>\n",
       "      <th>customer_id</th>\n",
       "      <th>order_id</th>\n",
       "      <th>product</th>\n",
       "      <th>quantity</th>\n",
       "      <th>price</th>\n",
       "      <th>revenue</th>\n",
       "      <th>date_day</th>\n",
       "      <th>month</th>\n",
       "      <th>year</th>\n",
       "      <th>hour</th>\n",
       "      <th>day_of_week</th>\n",
       "      <th>first_activity_month</th>\n",
       "      <th>cohort_lifetime</th>\n",
       "    </tr>\n",
       "  </thead>\n",
       "  <tbody>\n",
       "    <tr>\n",
       "      <td>6571</td>\n",
       "      <td>2019-10-08 20:00:00</td>\n",
       "      <td>d54fa8d9-144b-4c92-a916-81af6bbdebe7</td>\n",
       "      <td>72899</td>\n",
       "      <td>тарелка десертная хелло китти свит пинк 20 см h5479 luminarc</td>\n",
       "      <td>1</td>\n",
       "      <td>187.0</td>\n",
       "      <td>187.0</td>\n",
       "      <td>2019-10-08</td>\n",
       "      <td>10</td>\n",
       "      <td>2019</td>\n",
       "      <td>20</td>\n",
       "      <td>Tuesday</td>\n",
       "      <td>2019-10-01</td>\n",
       "      <td>0</td>\n",
       "    </tr>\n",
       "  </tbody>\n",
       "</table>\n",
       "</div>"
      ],
      "text/plain": [
       "                    date                           customer_id  order_id  \\\n",
       "6571 2019-10-08 20:00:00  d54fa8d9-144b-4c92-a916-81af6bbdebe7     72899   \n",
       "\n",
       "                                                           product  quantity  \\\n",
       "6571  тарелка десертная хелло китти свит пинк 20 см h5479 luminarc         1   \n",
       "\n",
       "      price  revenue   date_day  month  year  hour day_of_week  \\\n",
       "6571  187.0    187.0 2019-10-08     10  2019    20     Tuesday   \n",
       "\n",
       "     first_activity_month  cohort_lifetime  \n",
       "6571           2019-10-01                0  "
      ]
     },
     "execution_count": 103,
     "metadata": {},
     "output_type": "execute_result"
    }
   ],
   "source": [
    "#Выводим на экран случайную строку и данных\n",
    "df.sample()"
   ]
  },
  {
   "cell_type": "code",
   "execution_count": 104,
   "metadata": {},
   "outputs": [
    {
     "data": {
      "text/plain": [
       "array([ 0,  8,  9, 10,  7, 13, 15, 17, 14, 11, 16, 12, 18, 21, 19, 20,  4,\n",
       "        3,  6,  5, 22, 23,  1,  2])"
      ]
     },
     "execution_count": 104,
     "metadata": {},
     "output_type": "execute_result"
    }
   ],
   "source": [
    "#Просматриваем уникальные значения столбца с часами\n",
    "df['hour'].unique()"
   ]
  },
  {
   "cell_type": "code",
   "execution_count": 105,
   "metadata": {},
   "outputs": [],
   "source": [
    "#Сохраняем срезы данных\n",
    "df_am = df.query('0<=hour<=12')\n",
    "df_pm = df.query('12<hour<24')"
   ]
  },
  {
   "cell_type": "code",
   "execution_count": 106,
   "metadata": {},
   "outputs": [],
   "source": [
    "#Проводим проверку гипотез\n",
    "alpha = 0.05"
   ]
  },
  {
   "cell_type": "code",
   "execution_count": 107,
   "metadata": {},
   "outputs": [
    {
     "data": {
      "text/plain": [
       "'0.001'"
      ]
     },
     "metadata": {},
     "output_type": "display_data"
    }
   ],
   "source": [
    "display('{0:.3f}'.format(st.mannwhitneyu(df_am['revenue'], df_pm['revenue'])[1]))"
   ]
  },
  {
   "cell_type": "markdown",
   "metadata": {},
   "source": [
    "p-value меньше 0.05, различия между дневной и ночной выручкой статистически значима."
   ]
  },
  {
   "cell_type": "code",
   "execution_count": 108,
   "metadata": {},
   "outputs": [],
   "source": [
    "#Выделяем номер дня недели в отдельный столбец\n",
    "df['weekday'] = df['date'].dt.weekday"
   ]
  },
  {
   "cell_type": "code",
   "execution_count": 109,
   "metadata": {},
   "outputs": [],
   "source": [
    "#Сохраняем срезы данных\n",
    "weekday = df.query('weekday<=5')\n",
    "holiday = df.query('6<=weekday')"
   ]
  },
  {
   "cell_type": "code",
   "execution_count": 110,
   "metadata": {},
   "outputs": [],
   "source": [
    "#Проводим проверку гипотез\n",
    "alpha = 0.05"
   ]
  },
  {
   "cell_type": "code",
   "execution_count": 111,
   "metadata": {},
   "outputs": [
    {
     "data": {
      "text/plain": [
       "'0.244'"
      ]
     },
     "metadata": {},
     "output_type": "display_data"
    }
   ],
   "source": [
    "display('{0:.3f}'.format(st.mannwhitneyu(weekday['revenue'], holiday['revenue'])[1]))"
   ]
  },
  {
   "cell_type": "markdown",
   "metadata": {},
   "source": [
    "p-value больше 0.05, отсутствуют различия между выручкой между выходными и будними днями."
   ]
  },
  {
   "cell_type": "markdown",
   "metadata": {},
   "source": [
    "Итак, у нас получилось, что выручка интернет-магазина зависит от времени суток и не зависит от буднего или выходного дня. Хочется отметить, что проверка гипотезы по дням недели показала `p-value` очень близким к `alpha`."
   ]
  },
  {
   "cell_type": "markdown",
   "metadata": {},
   "source": [
    "<a class=\"anchor\" id=\"chapter5\"></a> \n",
    "## Выводы и рекомендации\n",
    "<a class=\"anchor\" href=\"#2\">Вернуться к оглавлению</a>"
   ]
  },
  {
   "cell_type": "markdown",
   "metadata": {},
   "source": [
    "В ходе исследования данных, мы разделили наших пользователей на 4 сегмента:"
   ]
  },
  {
   "cell_type": "code",
   "execution_count": 112,
   "metadata": {},
   "outputs": [
    {
     "data": {
      "text/html": [
       "<div>\n",
       "<style scoped>\n",
       "    .dataframe tbody tr th:only-of-type {\n",
       "        vertical-align: middle;\n",
       "    }\n",
       "\n",
       "    .dataframe tbody tr th {\n",
       "        vertical-align: top;\n",
       "    }\n",
       "\n",
       "    .dataframe thead tr th {\n",
       "        text-align: left;\n",
       "    }\n",
       "\n",
       "    .dataframe thead tr:last-of-type th {\n",
       "        text-align: right;\n",
       "    }\n",
       "</style>\n",
       "<table border=\"1\" class=\"dataframe\">\n",
       "  <thead>\n",
       "    <tr>\n",
       "      <th></th>\n",
       "      <th>recency</th>\n",
       "      <th>frequency</th>\n",
       "      <th colspan=\"2\" halign=\"left\">monetary</th>\n",
       "    </tr>\n",
       "    <tr>\n",
       "      <th></th>\n",
       "      <th>mean</th>\n",
       "      <th>mean</th>\n",
       "      <th>mean</th>\n",
       "      <th>count</th>\n",
       "    </tr>\n",
       "    <tr>\n",
       "      <th>segment</th>\n",
       "      <th></th>\n",
       "      <th></th>\n",
       "      <th></th>\n",
       "      <th></th>\n",
       "    </tr>\n",
       "  </thead>\n",
       "  <tbody>\n",
       "    <tr>\n",
       "      <td>Loyal</td>\n",
       "      <td>70.357143</td>\n",
       "      <td>9.000000</td>\n",
       "      <td>12639.000000</td>\n",
       "      <td>21</td>\n",
       "    </tr>\n",
       "    <tr>\n",
       "      <td>Needs Attention</td>\n",
       "      <td>280.854143</td>\n",
       "      <td>1.017877</td>\n",
       "      <td>467.712849</td>\n",
       "      <td>895</td>\n",
       "    </tr>\n",
       "    <tr>\n",
       "      <td>Potential</td>\n",
       "      <td>128.243961</td>\n",
       "      <td>1.184270</td>\n",
       "      <td>3527.094382</td>\n",
       "      <td>890</td>\n",
       "    </tr>\n",
       "    <tr>\n",
       "      <td>Promising</td>\n",
       "      <td>203.849548</td>\n",
       "      <td>1.027907</td>\n",
       "      <td>1594.021705</td>\n",
       "      <td>645</td>\n",
       "    </tr>\n",
       "  </tbody>\n",
       "</table>\n",
       "</div>"
      ],
      "text/plain": [
       "                    recency frequency      monetary      \n",
       "                       mean      mean          mean count\n",
       "segment                                                  \n",
       "Loyal             70.357143  9.000000  12639.000000    21\n",
       "Needs Attention  280.854143  1.017877    467.712849   895\n",
       "Potential        128.243961  1.184270   3527.094382   890\n",
       "Promising        203.849548  1.027907   1594.021705   645"
      ]
     },
     "execution_count": 112,
     "metadata": {},
     "output_type": "execute_result"
    }
   ],
   "source": [
    "segments"
   ]
  },
  {
   "cell_type": "markdown",
   "metadata": {},
   "source": [
    "**Лояльные** - регулярно совершают заказы, возвращаются к нам за повторными покупками. Их очень мало от общей выборки.\n",
    "\n",
    "**Потенциальные клиенты** - возвращаются к нам, совершают заказ на значимое количество и сумму покупки. Такому сегменту можно предложить акции на те товары, которые они уже покупали. Акцию желательно ограничить по времени, что бы мотивировать клиента совершить заказ на ранее понравившийся товар.\n",
    "\n",
    "**Возможные клиенты** - совершают заказ, почти не возвращаются. Что бы перейти в сегмент выше, данным клиентам можно предложить значимые для них бонусы и подарки, рассказывать о возможностях и предложениях нашего магазина.\n",
    "\n",
    "**Требуют внимания** - совершают первую покупку и пропадают. К таким клиентом можно предложить пройти опрос, например, за бонусы или подарки. В опросе уточнить, что им понравилось/не понравилось в нашем интернет-магазине, возможно, на каких-то этапах у них возникли трудности с совершением заказа, предпочитаемый способ оплаты, впечатления от службы доставки. По таким клиентам желательно провести доп анализ с разбором воронки, что бы понять, как часто они вообще заходили к нам на страницу и на каком шаге отваливались."
   ]
  },
  {
   "cell_type": "markdown",
   "metadata": {},
   "source": [
    "Средний чек на пользователя колеблется и изменяется из месяца в месяц. В среднем, покупатели совершают 1-2 покупки.\n",
    "\n",
    "Надо повышать retenion rate! Например, для возврата клиентов из сегментов \"Возможных клиентов\" и \"Требующих внимание\" на площадку можно организовать разовую акцию с большими скидками в определенный день."
   ]
  },
  {
   "cell_type": "markdown",
   "metadata": {},
   "source": [
    "Возможно, не все пользователи доходят от стадии перехода на сайт до успешного совершения покупки. Доп. данные со статусами и переходами пользователя по сайту помогли бы определить проблемы и трудности, с которыми, возможно, столкнулся клиент и не совершил покупку.\n",
    "\n",
    "Возможно, страдает служба логистики и невовремя доставляет заказ, из-за чего клиенты не возвращается к нам из-за недружелюбного сервиса.\n",
    "\n",
    "Возможно, клиенту неудобен способ оплаты. В приведенных данных нет информации как оплачивает товар клиент - переводом, наличными, картой.\n",
    "\n",
    "Нашему интернет-магазину важно иметь лояльных клиентов, так как для компании существенно снижаются затраты на его привлечение и удержание, он менее чувствителен к цене, а значит можно предложить большее число товаров. Также, лояльный клиент может порекомендовать нас своим друзьям и знакомым, тем самым мы получим альтернативный низкозатратный канал.\n",
    "\n",
    "Также, для более целевых предложений, могли бы быть полезными дополнительные данные, такие как: возраст, геолокация, пол, тип девайса/ОС. Это позволило бы предоставить более значимые для клиента акции, предложения и скидки.\n",
    "\n",
    "Также, следует делать сегментацию и анализ состояния клиентов с периодичностью, например, полгода-год. Иначе, можно обнаружить, что сегменты, дающие в прошлом устойчивый доход, вдруг уменьшились."
   ]
  },
  {
   "cell_type": "markdown",
   "metadata": {},
   "source": [
    "<a class=\"anchor\" id=\"chapter6\"></a> \n",
    "## Дополнительные материалы\n",
    "<a class=\"anchor\" href=\"#2\">Вернуться к оглавлению</a>"
   ]
  },
  {
   "cell_type": "markdown",
   "metadata": {},
   "source": [
    "Ссылка на дашборд: <https://public.tableau.com/app/profile/dinara5158/viz/Dash_16223956879860/Dashboard1>\n",
    "1. Постройте **диаграмму количества покупок** по дням.\n",
    "2. Добавьте индикатор количества покупателей.\n",
    "3. Добавьте фильтр дашборда по дате совершения покупки."
   ]
  },
  {
   "cell_type": "markdown",
   "metadata": {},
   "source": [
    "Презентация: <https://drive.google.com/file/d/1KDJ52Pq-1CRnkKy96mxOt6NCY79oAnKw/view?usp=sharing>"
   ]
  }
 ],
 "metadata": {
  "kernelspec": {
   "display_name": "Python 3",
   "language": "python",
   "name": "python3"
  },
  "language_info": {
   "codemirror_mode": {
    "name": "ipython",
    "version": 3
   },
   "file_extension": ".py",
   "mimetype": "text/x-python",
   "name": "python",
   "nbconvert_exporter": "python",
   "pygments_lexer": "ipython3",
   "version": "3.7.10"
  },
  "toc": {
   "base_numbering": 1,
   "nav_menu": {},
   "number_sections": false,
   "sideBar": true,
   "skip_h1_title": true,
   "title_cell": "Table of Contents",
   "title_sidebar": "Contents",
   "toc_cell": false,
   "toc_position": {},
   "toc_section_display": true,
   "toc_window_display": false
  }
 },
 "nbformat": 4,
 "nbformat_minor": 2
}
